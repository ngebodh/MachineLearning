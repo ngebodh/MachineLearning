{
  "nbformat": 4,
  "nbformat_minor": 0,
  "metadata": {
    "kernelspec": {
      "name": "python3",
      "display_name": "Python 3",
      "language": "python"
    },
    "language_info": {
      "mimetype": "text/x-python",
      "nbconvert_exporter": "python",
      "name": "python",
      "pygments_lexer": "ipython3",
      "version": "3.5.4",
      "file_extension": ".py",
      "codemirror_mode": {
        "version": 3,
        "name": "ipython"
      }
    },
    "colab": {
      "name": "DeepLearningWithKeras-NeuralNetworks-DigitClassification.ipynb",
      "version": "0.3.2",
      "provenance": []
    }
  },
  "cells": [
    {
      "cell_type": "markdown",
      "metadata": {
        "collapsed": true,
        "id": "Tt8924WQ2BST",
        "colab_type": "text"
      },
      "source": [
        "# Digit Classification with Neural Networks"
      ]
    },
    {
      "cell_type": "markdown",
      "metadata": {
        "id": "VtyebjvN2BSU",
        "colab_type": "text"
      },
      "source": [
        "## Import packages"
      ]
    },
    {
      "cell_type": "code",
      "metadata": {
        "trusted": true,
        "id": "zstpjJOH2BSW",
        "colab_type": "code",
        "colab": {
          "base_uri": "https://localhost:8080/",
          "height": 34
        },
        "outputId": "342104db-cfeb-4fe5-95b5-672a52d0a645"
      },
      "source": [
        "from keras.datasets import mnist\n",
        "from keras.preprocessing.image import load_img, array_to_img\n",
        "from keras.utils.np_utils import to_categorical\n",
        "from keras.models import Sequential\n",
        "from keras.layers import Dense\n",
        "\n",
        "import numpy as np\n",
        "import matplotlib.pyplot as plt\n",
        "%matplotlib inline"
      ],
      "execution_count": 1,
      "outputs": [
        {
          "output_type": "stream",
          "text": [
            "Using TensorFlow backend.\n"
          ],
          "name": "stderr"
        }
      ]
    },
    {
      "cell_type": "markdown",
      "metadata": {
        "id": "nqgY__cH2BSb",
        "colab_type": "text"
      },
      "source": [
        "## Load the data"
      ]
    },
    {
      "cell_type": "code",
      "metadata": {
        "trusted": true,
        "id": "VGOk-O-W2BSd",
        "colab_type": "code",
        "colab": {
          "base_uri": "https://localhost:8080/",
          "height": 50
        },
        "outputId": "e06b3f45-3c2f-43ae-a72d-c749853ff634"
      },
      "source": [
        "(X_train, y_train), (X_test, y_test) = mnist.load_data()"
      ],
      "execution_count": 2,
      "outputs": [
        {
          "output_type": "stream",
          "text": [
            "Downloading data from https://s3.amazonaws.com/img-datasets/mnist.npz\n",
            "11493376/11490434 [==============================] - 1s 0us/step\n"
          ],
          "name": "stdout"
        }
      ]
    },
    {
      "cell_type": "code",
      "metadata": {
        "trusted": true,
        "id": "QvLpuXWG2BSg",
        "colab_type": "code",
        "colab": {
          "base_uri": "https://localhost:8080/",
          "height": 101
        },
        "outputId": "78d5dd22-2d6a-494b-8717-2a49b3b08537"
      },
      "source": [
        "print(type(X_train))\n",
        "print(X_train.shape)\n",
        "print(y_train.shape) #60k is the answers\n",
        "print(X_test.shape)  #10K entries\n",
        "print(y_test.shape)\n",
        "\n"
      ],
      "execution_count": 3,
      "outputs": [
        {
          "output_type": "stream",
          "text": [
            "<class 'numpy.ndarray'>\n",
            "(60000, 28, 28)\n",
            "(60000,)\n",
            "(10000, 28, 28)\n",
            "(10000,)\n"
          ],
          "name": "stdout"
        }
      ]
    },
    {
      "cell_type": "markdown",
      "metadata": {
        "collapsed": true,
        "id": "egYr3_Cl2BSj",
        "colab_type": "text"
      },
      "source": [
        "## Understanding the image data format"
      ]
    },
    {
      "cell_type": "code",
      "metadata": {
        "trusted": true,
        "id": "k98nNU7n2BSk",
        "colab_type": "code",
        "colab": {
          "base_uri": "https://localhost:8080/",
          "height": 302
        },
        "outputId": "88a50deb-7ebd-45c0-9a56-79ce19ee817c"
      },
      "source": [
        "#Lets look at the data to see what it looks like\n",
        "print(X_train[0].shape) #Look at the size of the 1st entry\n",
        "\n",
        "#Plot it to see what it looks like\n",
        "\n",
        "plt.imshow(X_train[0])\n",
        "\n",
        "#Print the answer\n",
        "print(\"The answer is {}\".format(y_train[0]))"
      ],
      "execution_count": 4,
      "outputs": [
        {
          "output_type": "stream",
          "text": [
            "(28, 28)\n",
            "The answer is 5\n"
          ],
          "name": "stdout"
        },
        {
          "output_type": "display_data",
          "data": {
            "image/png": "[encoded data removed]",
            "text/plain": [
              "<Figure size 432x288 with 1 Axes>"
            ]
          },
          "metadata": {
            "tags": []
          }
        }
      ]
    },
    {
      "cell_type": "markdown",
      "metadata": {
        "id": "Vx6blgAX2BSn",
        "colab_type": "text"
      },
      "source": [
        "## Preprocessing the image data"
      ]
    },
    {
      "cell_type": "code",
      "metadata": {
        "trusted": true,
        "id": "kCgYpHgN2BSo",
        "colab_type": "code",
        "colab": {}
      },
      "source": [
        "image_height, image_width =28, 28"
      ],
      "execution_count": 0,
      "outputs": []
    },
    {
      "cell_type": "code",
      "metadata": {
        "trusted": true,
        "id": "nOXZBfo32BSr",
        "colab_type": "code",
        "colab": {}
      },
      "source": [
        "#Lets reshape each image to be a single vector rather than a matrix\n",
        "\n",
        "#Have to flatten to plug into neural net\n",
        "\n",
        "X_train  =X_train.reshape(60000,image_height*image_width)\n",
        "\n",
        "X_test   =X_test.reshape(10000,image_height*image_width)"
      ],
      "execution_count": 0,
      "outputs": []
    },
    {
      "cell_type": "code",
      "metadata": {
        "trusted": true,
        "id": "IpJPT-4J2BSt",
        "colab_type": "code",
        "colab": {
          "base_uri": "https://localhost:8080/",
          "height": 50
        },
        "outputId": "0cdffd6d-c4c2-4dbd-e80a-012b5c7e8fff"
      },
      "source": [
        "print(X_train.shape) #28X28 =784\n",
        "print(X_test.shape)\n"
      ],
      "execution_count": 7,
      "outputs": [
        {
          "output_type": "stream",
          "text": [
            "(60000, 784)\n",
            "(10000, 784)\n"
          ],
          "name": "stdout"
        }
      ]
    },
    {
      "cell_type": "code",
      "metadata": {
        "trusted": true,
        "id": "eEvI6YTz2BSz",
        "colab_type": "code",
        "colab": {
          "base_uri": "https://localhost:8080/",
          "height": 34
        },
        "outputId": "e41857a6-5a9f-4982-c907-20f9dee6c8c1"
      },
      "source": [
        "#Check to see if image is between 0-255\n",
        "print(min(X_train[0]), max(X_train[0])) #it is! so we need to normalize\n",
        "\n",
        "#We will convert data to float (insead of int) to scale the data betwn 0-1 (not 0-255)\n",
        "\n",
        "X_train = X_train.astype('float32') #Convert to float\n",
        "X_test  = X_test.astype('float32') #Convert to float"
      ],
      "execution_count": 8,
      "outputs": [
        {
          "output_type": "stream",
          "text": [
            "0 255\n"
          ],
          "name": "stdout"
        }
      ]
    },
    {
      "cell_type": "code",
      "metadata": {
        "trusted": true,
        "id": "OgMFUuTf2BS6",
        "colab_type": "code",
        "colab": {
          "base_uri": "https://localhost:8080/",
          "height": 34
        },
        "outputId": "e0b48cd0-479d-4c25-eec7-d508696add93"
      },
      "source": [
        "#Normalize the data\n",
        "X_train /= 255.0\n",
        "X_test  /= 255.0\n",
        "print(min(X_train[0]), max(X_train[0])) #Normalized"
      ],
      "execution_count": 9,
      "outputs": [
        {
          "output_type": "stream",
          "text": [
            "0.0 1.0\n"
          ],
          "name": "stdout"
        }
      ]
    },
    {
      "cell_type": "code",
      "metadata": {
        "trusted": true,
        "id": "us9-i2wW2BTB",
        "colab_type": "code",
        "colab": {
          "base_uri": "https://localhost:8080/",
          "height": 50
        },
        "outputId": "7eac3e76-e8c1-48fc-9c1f-8d24b436bd93"
      },
      "source": [
        "# We want the output to be in one of 9 bins to rep each of the 0-9 numbers\n",
        "#In order to do this we can convert the answers to a categorical value\n",
        "#We do this using the 'to_categorical' method\n",
        "\n",
        "y_train =to_categorical(y_train, 10)\n",
        "y_test  =to_categorical(y_test, 10)\n",
        "print(y_train.shape)\n",
        "print(y_test.shape)"
      ],
      "execution_count": 10,
      "outputs": [
        {
          "output_type": "stream",
          "text": [
            "(60000, 10)\n",
            "(10000, 10)\n"
          ],
          "name": "stdout"
        }
      ]
    },
    {
      "cell_type": "code",
      "metadata": {
        "trusted": true,
        "id": "2XX0dPYS2BTG",
        "colab_type": "code",
        "colab": {
          "base_uri": "https://localhost:8080/",
          "height": 302
        },
        "outputId": "b4cc6d2e-b976-48cc-fe50-78ec035ced55"
      },
      "source": [
        "print(y_test[0])\n",
        "plt.imshow(X_test[0].reshape(image_height, image_width))"
      ],
      "execution_count": 11,
      "outputs": [
        {
          "output_type": "stream",
          "text": [
            "[0. 0. 0. 0. 0. 0. 0. 1. 0. 0.]\n"
          ],
          "name": "stdout"
        },
        {
          "output_type": "execute_result",
          "data": {
            "text/plain": [
              "<matplotlib.image.AxesImage at 0x7f83c951fe80>"
            ]
          },
          "metadata": {
            "tags": []
          },
          "execution_count": 11
        },
        {
          "output_type": "display_data",
          "data": {
            "image/png": "[encoded data removed]",
            "text/plain": [
              "<Figure size 432x288 with 1 Axes>"
            ]
          },
          "metadata": {
            "tags": []
          }
        }
      ]
    },
    {
      "cell_type": "markdown",
      "metadata": {
        "collapsed": true,
        "id": "m81yrfqe2BTI",
        "colab_type": "text"
      },
      "source": [
        "## Build a model"
      ]
    },
    {
      "cell_type": "code",
      "metadata": {
        "trusted": true,
        "id": "Gg059r_H2BTJ",
        "colab_type": "code",
        "colab": {
          "base_uri": "https://localhost:8080/",
          "height": 87
        },
        "outputId": "b7ef9775-737e-43b3-89c6-ee49351a9a9d"
      },
      "source": [
        "#Assign the model type\n",
        "model = Sequential()"
      ],
      "execution_count": 12,
      "outputs": [
        {
          "output_type": "stream",
          "text": [
            "WARNING: Logging before flag parsing goes to stderr.\n",
            "W0820 07:05:57.344842 140205005252480 deprecation_wrapper.py:119] From /usr/local/lib/python3.6/dist-packages/keras/backend/tensorflow_backend.py:74: The name tf.get_default_graph is deprecated. Please use tf.compat.v1.get_default_graph instead.\n",
            "\n"
          ],
          "name": "stderr"
        }
      ]
    },
    {
      "cell_type": "code",
      "metadata": {
        "trusted": true,
        "id": "mmHICxrt2BTM",
        "colab_type": "code",
        "colab": {
          "base_uri": "https://localhost:8080/",
          "height": 104
        },
        "outputId": "4e15d86f-f54a-43b5-e9af-de21379decc3"
      },
      "source": [
        "#Add layers to the model\n",
        "\n",
        "model.add(Dense(512, activation='relu',input_shape=(784,)))\n",
        "model.add(Dense(512, activation='relu'))\n",
        "model.add(Dense(10, activation='softmax'))\n"
      ],
      "execution_count": 13,
      "outputs": [
        {
          "output_type": "stream",
          "text": [
            "W0820 07:05:57.396619 140205005252480 deprecation_wrapper.py:119] From /usr/local/lib/python3.6/dist-packages/keras/backend/tensorflow_backend.py:517: The name tf.placeholder is deprecated. Please use tf.compat.v1.placeholder instead.\n",
            "\n",
            "W0820 07:05:57.411686 140205005252480 deprecation_wrapper.py:119] From /usr/local/lib/python3.6/dist-packages/keras/backend/tensorflow_backend.py:4138: The name tf.random_uniform is deprecated. Please use tf.random.uniform instead.\n",
            "\n"
          ],
          "name": "stderr"
        }
      ]
    },
    {
      "cell_type": "markdown",
      "metadata": {
        "collapsed": true,
        "id": "4OUEjsAN2BTP",
        "colab_type": "text"
      },
      "source": [
        "## Compile the model"
      ]
    },
    {
      "cell_type": "code",
      "metadata": {
        "trusted": true,
        "id": "O8DG_lWm2BTQ",
        "colab_type": "code",
        "colab": {
          "base_uri": "https://localhost:8080/",
          "height": 104
        },
        "outputId": "95890ddd-0674-4ff4-f276-77fb1856b3ad"
      },
      "source": [
        "model.compile(optimizer='adam', loss='categorical_crossentropy', metrics=['accuracy'])"
      ],
      "execution_count": 14,
      "outputs": [
        {
          "output_type": "stream",
          "text": [
            "W0820 07:05:57.470818 140205005252480 deprecation_wrapper.py:119] From /usr/local/lib/python3.6/dist-packages/keras/optimizers.py:790: The name tf.train.Optimizer is deprecated. Please use tf.compat.v1.train.Optimizer instead.\n",
            "\n",
            "W0820 07:05:57.507090 140205005252480 deprecation_wrapper.py:119] From /usr/local/lib/python3.6/dist-packages/keras/backend/tensorflow_backend.py:3295: The name tf.log is deprecated. Please use tf.math.log instead.\n",
            "\n"
          ],
          "name": "stderr"
        }
      ]
    },
    {
      "cell_type": "code",
      "metadata": {
        "trusted": true,
        "id": "YsaQaFZW2BTT",
        "colab_type": "code",
        "colab": {
          "base_uri": "https://localhost:8080/",
          "height": 235
        },
        "outputId": "0e6b3054-22a3-40ca-b781-b6a5aca3e6e9"
      },
      "source": [
        "model.summary()"
      ],
      "execution_count": 15,
      "outputs": [
        {
          "output_type": "stream",
          "text": [
            "_________________________________________________________________\n",
            "Layer (type)                 Output Shape              Param #   \n",
            "=================================================================\n",
            "dense_1 (Dense)              (None, 512)               401920    \n",
            "_________________________________________________________________\n",
            "dense_2 (Dense)              (None, 512)               262656    \n",
            "_________________________________________________________________\n",
            "dense_3 (Dense)              (None, 10)                5130      \n",
            "=================================================================\n",
            "Total params: 669,706\n",
            "Trainable params: 669,706\n",
            "Non-trainable params: 0\n",
            "_________________________________________________________________\n"
          ],
          "name": "stdout"
        }
      ]
    },
    {
      "cell_type": "markdown",
      "metadata": {
        "trusted": false,
        "id": "sBRDPjFB2BTW",
        "colab_type": "text"
      },
      "source": [
        "## Calculating the number of parameters for each layer\n",
        "\n",
        "### *Layer 1*\n",
        "* After flattening each image we get:\n",
        "    * 28 X 28=784\n",
        "* We then pass the 784 into 512 nodes in the model plus a bias layer 512 (zeros)\n",
        "* This gives:\n",
        "    * 784(pixels) X 512(neurons) X 512(bias)=401920\n",
        "\n",
        "\n",
        "### *Layer 2*\n",
        "* We have 512 (output from previous), going into another 512 nodes (in new layer), plus another 512\n",
        "* This gives:\n",
        "    * 512 (input) X 512 (this layer) X 512 =262656\n",
        "\n",
        "### *Layer 3*\n",
        "* We have 512 (incoming from last layer), going into 10 nodes (in this layer), 10 bias units\n",
        "* This gives:\n",
        "   * 512 (last layer) X 10 (nodes in this layer) + 10 (bias) =5130"
      ]
    },
    {
      "cell_type": "markdown",
      "metadata": {
        "collapsed": true,
        "id": "MrYIj_gd2BTX",
        "colab_type": "text"
      },
      "source": [
        "## Train the model"
      ]
    },
    {
      "cell_type": "markdown",
      "metadata": {
        "trusted": false,
        "id": "CinytpOS2BTY",
        "colab_type": "text"
      },
      "source": [
        "Now we can trian our model. \n",
        "To do this we have to pass:\n",
        "* Training data\n",
        "* Number of epochs (the number of times that model passes through the training data)\n",
        "* Validation data (testing data)\n"
      ]
    },
    {
      "cell_type": "code",
      "metadata": {
        "trusted": true,
        "id": "xZmpLf0f2BTZ",
        "colab_type": "code",
        "colab": {
          "base_uri": "https://localhost:8080/",
          "height": 810
        },
        "outputId": "beb5cf33-fa5f-48a3-fc87-e8ba9a77b6dc"
      },
      "source": [
        "history =model.fit(X_train, y_train, epochs =20, validation_data=(X_test, y_test))"
      ],
      "execution_count": 16,
      "outputs": [
        {
          "output_type": "stream",
          "text": [
            "W0820 07:05:57.687465 140205005252480 deprecation.py:323] From /usr/local/lib/python3.6/dist-packages/tensorflow/python/ops/math_grad.py:1250: add_dispatch_support.<locals>.wrapper (from tensorflow.python.ops.array_ops) is deprecated and will be removed in a future version.\n",
            "Instructions for updating:\n",
            "Use tf.where in 2.0, which has the same broadcast rule as np.where\n",
            "W0820 07:05:57.748347 140205005252480 deprecation_wrapper.py:119] From /usr/local/lib/python3.6/dist-packages/keras/backend/tensorflow_backend.py:986: The name tf.assign_add is deprecated. Please use tf.compat.v1.assign_add instead.\n",
            "\n"
          ],
          "name": "stderr"
        },
        {
          "output_type": "stream",
          "text": [
            "Train on 60000 samples, validate on 10000 samples\n",
            "Epoch 1/20\n",
            "60000/60000 [==============================] - 27s 452us/step - loss: 0.1842 - acc: 0.9437 - val_loss: 0.1321 - val_acc: 0.9579\n",
            "Epoch 2/20\n",
            "60000/60000 [==============================] - 26s 437us/step - loss: 0.0789 - acc: 0.9759 - val_loss: 0.0777 - val_acc: 0.9754\n",
            "Epoch 3/20\n",
            "60000/60000 [==============================] - 26s 432us/step - loss: 0.0563 - acc: 0.9823 - val_loss: 0.0869 - val_acc: 0.9733\n",
            "Epoch 4/20\n",
            "60000/60000 [==============================] - 26s 426us/step - loss: 0.0431 - acc: 0.9864 - val_loss: 0.0694 - val_acc: 0.9800\n",
            "Epoch 5/20\n",
            "60000/60000 [==============================] - 26s 433us/step - loss: 0.0346 - acc: 0.9891 - val_loss: 0.0767 - val_acc: 0.9817\n",
            "Epoch 6/20\n",
            "60000/60000 [==============================] - 26s 435us/step - loss: 0.0301 - acc: 0.9905 - val_loss: 0.0891 - val_acc: 0.9782\n",
            "Epoch 7/20\n",
            "60000/60000 [==============================] - 26s 427us/step - loss: 0.0251 - acc: 0.9923 - val_loss: 0.1008 - val_acc: 0.9777\n",
            "Epoch 8/20\n",
            "60000/60000 [==============================] - 26s 435us/step - loss: 0.0205 - acc: 0.9935 - val_loss: 0.1029 - val_acc: 0.9775\n",
            "Epoch 9/20\n",
            "60000/60000 [==============================] - 26s 432us/step - loss: 0.0183 - acc: 0.9943 - val_loss: 0.0857 - val_acc: 0.9805\n",
            "Epoch 10/20\n",
            "60000/60000 [==============================] - 27s 443us/step - loss: 0.0205 - acc: 0.9940 - val_loss: 0.1044 - val_acc: 0.9815\n",
            "Epoch 11/20\n",
            "60000/60000 [==============================] - 26s 436us/step - loss: 0.0190 - acc: 0.9942 - val_loss: 0.1140 - val_acc: 0.9777\n",
            "Epoch 12/20\n",
            "60000/60000 [==============================] - 26s 429us/step - loss: 0.0146 - acc: 0.9958 - val_loss: 0.1239 - val_acc: 0.9775\n",
            "Epoch 13/20\n",
            "60000/60000 [==============================] - 26s 427us/step - loss: 0.0152 - acc: 0.9956 - val_loss: 0.1150 - val_acc: 0.9823\n",
            "Epoch 14/20\n",
            "60000/60000 [==============================] - 26s 427us/step - loss: 0.0149 - acc: 0.9957 - val_loss: 0.1235 - val_acc: 0.9800\n",
            "Epoch 15/20\n",
            "60000/60000 [==============================] - 25s 423us/step - loss: 0.0154 - acc: 0.9960 - val_loss: 0.1280 - val_acc: 0.9797\n",
            "Epoch 16/20\n",
            "60000/60000 [==============================] - 25s 422us/step - loss: 0.0166 - acc: 0.9956 - val_loss: 0.1625 - val_acc: 0.9742\n",
            "Epoch 17/20\n",
            "60000/60000 [==============================] - 25s 424us/step - loss: 0.0140 - acc: 0.9965 - val_loss: 0.1035 - val_acc: 0.9820\n",
            "Epoch 18/20\n",
            "60000/60000 [==============================] - 25s 422us/step - loss: 0.0153 - acc: 0.9960 - val_loss: 0.1205 - val_acc: 0.9829\n",
            "Epoch 19/20\n",
            "60000/60000 [==============================] - 25s 422us/step - loss: 0.0111 - acc: 0.9969 - val_loss: 0.1324 - val_acc: 0.9804\n",
            "Epoch 20/20\n",
            "60000/60000 [==============================] - 25s 420us/step - loss: 0.0166 - acc: 0.9962 - val_loss: 0.1513 - val_acc: 0.9795\n"
          ],
          "name": "stdout"
        }
      ]
    },
    {
      "cell_type": "code",
      "metadata": {
        "trusted": false,
        "id": "ZOP2laxE2BTd",
        "colab_type": "code",
        "colab": {}
      },
      "source": [
        ""
      ],
      "execution_count": 0,
      "outputs": []
    },
    {
      "cell_type": "markdown",
      "metadata": {
        "id": "Y9RzxCRe2BTg",
        "colab_type": "text"
      },
      "source": [
        "## What is the accuracy of the model?"
      ]
    },
    {
      "cell_type": "markdown",
      "metadata": {
        "id": "atwiYvbz2BTk",
        "colab_type": "text"
      },
      "source": [
        "### Plot the accuracy of the training model"
      ]
    },
    {
      "cell_type": "code",
      "metadata": {
        "trusted": true,
        "id": "mPI7OcCA2BTl",
        "colab_type": "code",
        "colab": {
          "base_uri": "https://localhost:8080/",
          "height": 1000
        },
        "outputId": "58a1b082-223d-4aee-ade5-b4aa97bb0531"
      },
      "source": [
        "#Look at the attributes in the history object to find the accuracy\n",
        "history.__dict__"
      ],
      "execution_count": 17,
      "outputs": [
        {
          "output_type": "execute_result",
          "data": {
            "text/plain": [
              "{'epoch': [0,\n",
              "  1,\n",
              "  2,\n",
              "  3,\n",
              "  4,\n",
              "  5,\n",
              "  6,\n",
              "  7,\n",
              "  8,\n",
              "  9,\n",
              "  10,\n",
              "  11,\n",
              "  12,\n",
              "  13,\n",
              "  14,\n",
              "  15,\n",
              "  16,\n",
              "  17,\n",
              "  18,\n",
              "  19],\n",
              " 'history': {'acc': [0.9437166666666666,\n",
              "   0.9758666666666667,\n",
              "   0.9822833333333333,\n",
              "   0.9864166666666667,\n",
              "   0.9891166666666666,\n",
              "   0.99045,\n",
              "   0.9922833333333333,\n",
              "   0.9935166666666667,\n",
              "   0.9943,\n",
              "   0.99405,\n",
              "   0.9942,\n",
              "   0.9957833333333334,\n",
              "   0.9956,\n",
              "   0.99565,\n",
              "   0.9959666666666667,\n",
              "   0.9955666666666667,\n",
              "   0.99645,\n",
              "   0.9960166666666667,\n",
              "   0.99685,\n",
              "   0.99625],\n",
              "  'loss': [0.18416011471686264,\n",
              "   0.07894161813653384,\n",
              "   0.05629563206637589,\n",
              "   0.043141744812547886,\n",
              "   0.03463797800432561,\n",
              "   0.03007295670452998,\n",
              "   0.025087888938408045,\n",
              "   0.020477740043793727,\n",
              "   0.018332584290340098,\n",
              "   0.020489056526854378,\n",
              "   0.01904268060001924,\n",
              "   0.014636038859433074,\n",
              "   0.015241379422380274,\n",
              "   0.01488577041779337,\n",
              "   0.015401399811703709,\n",
              "   0.01655236050960512,\n",
              "   0.014017093596740634,\n",
              "   0.015295848346811408,\n",
              "   0.011142703662544658,\n",
              "   0.01661629691273954],\n",
              "  'val_acc': [0.9579,\n",
              "   0.9754,\n",
              "   0.9733,\n",
              "   0.98,\n",
              "   0.9817,\n",
              "   0.9782,\n",
              "   0.9777,\n",
              "   0.9775,\n",
              "   0.9805,\n",
              "   0.9815,\n",
              "   0.9777,\n",
              "   0.9775,\n",
              "   0.9823,\n",
              "   0.98,\n",
              "   0.9797,\n",
              "   0.9742,\n",
              "   0.982,\n",
              "   0.9829,\n",
              "   0.9804,\n",
              "   0.9795],\n",
              "  'val_loss': [0.13213747869767248,\n",
              "   0.07768956533807796,\n",
              "   0.08690066614362876,\n",
              "   0.06944087889036164,\n",
              "   0.07673393609686209,\n",
              "   0.08913333164230862,\n",
              "   0.10080510411080691,\n",
              "   0.1028824891035541,\n",
              "   0.08566066905374536,\n",
              "   0.10436492597102856,\n",
              "   0.1140227648591278,\n",
              "   0.12387610763142443,\n",
              "   0.1149812871933566,\n",
              "   0.12350996273625792,\n",
              "   0.12803592754282145,\n",
              "   0.1625020817862077,\n",
              "   0.10353397753429631,\n",
              "   0.12051795932296623,\n",
              "   0.13241675687355067,\n",
              "   0.15128104574999485]},\n",
              " 'model': <keras.engine.sequential.Sequential at 0x7f83cbd42d30>,\n",
              " 'params': {'batch_size': 32,\n",
              "  'do_validation': True,\n",
              "  'epochs': 20,\n",
              "  'metrics': ['loss', 'acc', 'val_loss', 'val_acc'],\n",
              "  'samples': 60000,\n",
              "  'steps': None,\n",
              "  'verbose': 1},\n",
              " 'validation_data': [array([[0., 0., 0., ..., 0., 0., 0.],\n",
              "         [0., 0., 0., ..., 0., 0., 0.],\n",
              "         [0., 0., 0., ..., 0., 0., 0.],\n",
              "         ...,\n",
              "         [0., 0., 0., ..., 0., 0., 0.],\n",
              "         [0., 0., 0., ..., 0., 0., 0.],\n",
              "         [0., 0., 0., ..., 0., 0., 0.]], dtype=float32),\n",
              "  array([[0., 0., 0., ..., 1., 0., 0.],\n",
              "         [0., 0., 1., ..., 0., 0., 0.],\n",
              "         [0., 1., 0., ..., 0., 0., 0.],\n",
              "         ...,\n",
              "         [0., 0., 0., ..., 0., 0., 0.],\n",
              "         [0., 0., 0., ..., 0., 0., 0.],\n",
              "         [0., 0., 0., ..., 0., 0., 0.]], dtype=float32),\n",
              "  array([1., 1., 1., ..., 1., 1., 1.], dtype=float32)]}"
            ]
          },
          "metadata": {
            "tags": []
          },
          "execution_count": 17
        }
      ]
    },
    {
      "cell_type": "code",
      "metadata": {
        "trusted": true,
        "id": "KeVOHoul2BTs",
        "colab_type": "code",
        "colab": {
          "base_uri": "https://localhost:8080/",
          "height": 312
        },
        "outputId": "e754a297-3430-4220-ea6f-f5439159e076"
      },
      "source": [
        "#Plot the accuracy \n",
        "plt.plot(history.history['acc'],label='train')\n",
        "plt.xlabel('Epoch Number')\n",
        "plt.ylabel('Accuracy (%)')\n",
        "plt.title('Model Accuracy Over Epoch')\n",
        "plt.legend()"
      ],
      "execution_count": 18,
      "outputs": [
        {
          "output_type": "execute_result",
          "data": {
            "text/plain": [
              "<matplotlib.legend.Legend at 0x7f83c95288d0>"
            ]
          },
          "metadata": {
            "tags": []
          },
          "execution_count": 18
        },
        {
          "output_type": "display_data",
          "data": {
            "image/png": "[encoded data removed]",
            "text/plain": [
              "<Figure size 432x288 with 1 Axes>"
            ]
          },
          "metadata": {
            "tags": []
          }
        }
      ]
    },
    {
      "cell_type": "markdown",
      "metadata": {
        "collapsed": true,
        "id": "oM5brTcH2BTw",
        "colab_type": "text"
      },
      "source": [
        "### Plot the accuracy of training and validation set"
      ]
    },
    {
      "cell_type": "code",
      "metadata": {
        "trusted": true,
        "id": "mY6P17xz2BTx",
        "colab_type": "code",
        "colab": {
          "base_uri": "https://localhost:8080/",
          "height": 312
        },
        "outputId": "ffcedbc4-87ac-4027-b2c6-2cd29a4a660a"
      },
      "source": [
        "#Plot the accuracy of training data and validation data\n",
        "plt.plot(history.history['acc'],label='train')\n",
        "plt.plot(history.history['val_acc'],label='val')\n",
        "plt.xlabel('Epoch Number')\n",
        "plt.ylabel('Accuracy (%)')\n",
        "plt.title('Model Accuracy Over Epoch')\n",
        "plt.legend()"
      ],
      "execution_count": 19,
      "outputs": [
        {
          "output_type": "execute_result",
          "data": {
            "text/plain": [
              "<matplotlib.legend.Legend at 0x7f83e1eaf320>"
            ]
          },
          "metadata": {
            "tags": []
          },
          "execution_count": 19
        },
        {
          "output_type": "display_data",
          "data": {
            "image/png": "[encoded data removed]",
            "text/plain": [
              "<Figure size 432x288 with 1 Axes>"
            ]
          },
          "metadata": {
            "tags": []
          }
        }
      ]
    },
    {
      "cell_type": "markdown",
      "metadata": {
        "collapsed": true,
        "id": "51XAZnc32BT1",
        "colab_type": "text"
      },
      "source": [
        "### Accuracy of training and validation with loss"
      ]
    },
    {
      "cell_type": "code",
      "metadata": {
        "trusted": true,
        "id": "4TrhWDGr2BT2",
        "colab_type": "code",
        "colab": {
          "base_uri": "https://localhost:8080/",
          "height": 312
        },
        "outputId": "c53dca18-fd16-49d9-c203-297c52f4edb6"
      },
      "source": [
        "#Plot the accuracy of training data and validation data AND loss\n",
        "plt.plot(history.history['acc'],label='train')\n",
        "plt.plot(history.history['val_acc'],label='val')\n",
        "plt.plot(history.history['loss'],label='loss')\n",
        "plt.xlabel('Epoch Number')\n",
        "plt.ylabel('Accuracy (10*%)')\n",
        "plt.title('Model Accuracy Over Epoch')\n",
        "plt.legend()\n",
        "# plt.yscale('log')"
      ],
      "execution_count": 20,
      "outputs": [
        {
          "output_type": "execute_result",
          "data": {
            "text/plain": [
              "<matplotlib.legend.Legend at 0x7f83c94ccac8>"
            ]
          },
          "metadata": {
            "tags": []
          },
          "execution_count": 20
        },
        {
          "output_type": "display_data",
          "data": {
            "image/png": "[encoded data removed]",
            "text/plain": [
              "<Figure size 432x288 with 1 Axes>"
            ]
          },
          "metadata": {
            "tags": []
          }
        }
      ]
    },
    {
      "cell_type": "markdown",
      "metadata": {
        "id": "GkSFamCH2BT7",
        "colab_type": "text"
      },
      "source": [
        "## Evaluating model"
      ]
    },
    {
      "cell_type": "code",
      "metadata": {
        "trusted": true,
        "id": "5r5mFRxQ2BT8",
        "colab_type": "code",
        "colab": {
          "base_uri": "https://localhost:8080/",
          "height": 34
        },
        "outputId": "8757cc27-58d5-4c0d-8045-66438132c9b4"
      },
      "source": [
        "score=model.evaluate(X_test, y_test)"
      ],
      "execution_count": 21,
      "outputs": [
        {
          "output_type": "stream",
          "text": [
            "10000/10000 [==============================] - 1s 73us/step\n"
          ],
          "name": "stdout"
        }
      ]
    },
    {
      "cell_type": "code",
      "metadata": {
        "trusted": true,
        "id": "ALqc_p-_2BUC",
        "colab_type": "code",
        "colab": {
          "base_uri": "https://localhost:8080/",
          "height": 34
        },
        "outputId": "aba469e1-b6c9-4300-ca21-bde25da66d73"
      },
      "source": [
        "#We get score as a list\n",
        "#The second item in score gives us the accuracy of or model\n",
        "score"
      ],
      "execution_count": 22,
      "outputs": [
        {
          "output_type": "execute_result",
          "data": {
            "text/plain": [
              "[0.15128104574999485, 0.9795]"
            ]
          },
          "metadata": {
            "tags": []
          },
          "execution_count": 22
        }
      ]
    }
  ]
}