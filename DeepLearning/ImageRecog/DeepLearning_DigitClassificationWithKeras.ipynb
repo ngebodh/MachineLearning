{
  "nbformat": 4,
  "nbformat_minor": 0,
  "metadata": {
    "kernelspec": {
      "name": "python3",
      "display_name": "Python 3",
      "language": "python"
    },
    "language_info": {
      "mimetype": "text/x-python",
      "nbconvert_exporter": "python",
      "name": "python",
      "pygments_lexer": "ipython3",
      "version": "3.5.4",
      "file_extension": ".py",
      "codemirror_mode": {
        "version": 3,
        "name": "ipython"
      }
    },
    "colab": {
      "name": "DeepLearning-DigitClassificationWithKeras.ipynb",
      "version": "0.3.2",
      "provenance": [],
      "include_colab_link": true
    }
  },
  "cells": [
    {
      "cell_type": "markdown",
      "metadata": {
        "id": "view-in-github",
        "colab_type": "text"
      },
      "source": [
        "<a href=\"https://colab.research.google.com/github/ngebodh/MachineLearning/blob/master/DeepLearning/ImageRecog/DeepLearning_DigitClassificationWithKeras.ipynb\" target=\"_parent\"><img src=\"https://colab.research.google.com/assets/colab-badge.svg\" alt=\"Open In Colab\"/></a>"
      ]
    },
    {
      "cell_type": "markdown",
      "metadata": {
        "collapsed": true,
        "id": "obZEfolG4xHj",
        "colab_type": "text"
      },
      "source": [
        "# Digit Classification with Neural Networks"
      ]
    },
    {
      "cell_type": "markdown",
      "metadata": {
        "id": "4jtHr7EC4xHo",
        "colab_type": "text"
      },
      "source": [
        "## About this project\n",
        "Our goal with this notebook is to build a neural network classificer in Keras to recognize hand written digits. We will use the MNIST data set that consists of thousands of hand writtent numbers that span 0-9\n",
        "\n",
        "Similar to the process shown below:\n",
        "\n",
        "<img src=\"https://i.ytimg.com/vi/ur6JY2Hl-MM/hqdefault.jpg\" width=\"25%\" hight=\"50%\">"
      ]
    },
    {
      "cell_type": "markdown",
      "metadata": {
        "id": "9oLA4Heh4xHq",
        "colab_type": "text"
      },
      "source": [
        "## Import Libraries\n",
        "\n",
        "Here we import the libraries that we will be using throughout the notebook.\n",
        "\n",
        "The libraries that we will be using include:<br/>\n",
        "* [Numpy](https://www.numpy.org/)\n",
        "* [Keras](https://keras.io/)\n",
        "* [Matplotlib](https://matplotlib.org/) <-for plotting and visualizations"
      ]
    },
    {
      "cell_type": "code",
      "metadata": {
        "trusted": true,
        "id": "HB6rnLAz4xHs",
        "colab_type": "code",
        "colab": {
          "base_uri": "https://localhost:8080/",
          "height": 34
        },
        "outputId": "23a111f9-04d8-4279-e3b0-3767f6e6d73b"
      },
      "source": [
        "from keras.datasets import mnist\n",
        "from keras.preprocessing.image import load_img, array_to_img\n",
        "from keras.utils.np_utils import to_categorical\n",
        "from keras.models import Sequential\n",
        "from keras.layers import Dense\n",
        "\n",
        "import numpy as np\n",
        "import matplotlib.pyplot as plt\n",
        "%matplotlib inline"
      ],
      "execution_count": 1,
      "outputs": [
        {
          "output_type": "stream",
          "text": [
            "Using TensorFlow backend.\n"
          ],
          "name": "stderr"
        }
      ]
    },
    {
      "cell_type": "markdown",
      "metadata": {
        "id": "MrFQgWRQ4xH7",
        "colab_type": "text"
      },
      "source": [
        "## Load the data"
      ]
    },
    {
      "cell_type": "code",
      "metadata": {
        "trusted": true,
        "id": "dH1okxfx4xH-",
        "colab_type": "code",
        "colab": {
          "base_uri": "https://localhost:8080/",
          "height": 50
        },
        "outputId": "e9e9361c-464e-409f-840e-960741361605"
      },
      "source": [
        "(X_train, y_train), (X_test, y_test) = mnist.load_data()"
      ],
      "execution_count": 2,
      "outputs": [
        {
          "output_type": "stream",
          "text": [
            "Downloading data from https://s3.amazonaws.com/img-datasets/mnist.npz\n",
            "11493376/11490434 [==============================] - 1s 0us/step\n"
          ],
          "name": "stdout"
        }
      ]
    },
    {
      "cell_type": "code",
      "metadata": {
        "trusted": true,
        "id": "ACVJd8884xIG",
        "colab_type": "code",
        "colab": {
          "base_uri": "https://localhost:8080/",
          "height": 101
        },
        "outputId": "3b27fd04-95cb-41a0-c0af-696cdcb90ed8"
      },
      "source": [
        "print(type(X_train))\n",
        "print(X_train.shape)\n",
        "print(y_train.shape) #60k is the answers\n",
        "print(X_test.shape)  #10K entries\n",
        "print(y_test.shape)\n",
        "\n"
      ],
      "execution_count": 3,
      "outputs": [
        {
          "output_type": "stream",
          "text": [
            "<class 'numpy.ndarray'>\n",
            "(60000, 28, 28)\n",
            "(60000,)\n",
            "(10000, 28, 28)\n",
            "(10000,)\n"
          ],
          "name": "stdout"
        }
      ]
    },
    {
      "cell_type": "markdown",
      "metadata": {
        "collapsed": true,
        "id": "JS8ISwOt4xIR",
        "colab_type": "text"
      },
      "source": [
        "## Understanding the image data format"
      ]
    },
    {
      "cell_type": "code",
      "metadata": {
        "trusted": true,
        "id": "YEEJkppA4xIT",
        "colab_type": "code",
        "colab": {
          "base_uri": "https://localhost:8080/",
          "height": 302
        },
        "outputId": "4e5b1aa8-12f7-4d9b-cc5b-e78dcb7c62e0"
      },
      "source": [
        "#Lets look at the data to see what it looks like\n",
        "print(X_train[0].shape) #Look at the size of the 1st entry\n",
        "\n",
        "#Plot it to see what it looks like\n",
        "\n",
        "plt.imshow(X_train[0])\n",
        "\n",
        "#Print the answer\n",
        "print(\"The answer is {}\".format(y_train[0]))"
      ],
      "execution_count": 4,
      "outputs": [
        {
          "output_type": "stream",
          "text": [
            "(28, 28)\n",
            "The answer is 5\n"
          ],
          "name": "stdout"
        },
        {
          "output_type": "display_data",
          "data": {
            "image/png": "[encoded data removed]",
            "text/plain": [
              "<Figure size 432x288 with 1 Axes>"
            ]
          },
          "metadata": {
            "tags": []
          }
        }
      ]
    },
    {
      "cell_type": "markdown",
      "metadata": {
        "id": "tmiVKhIZ4xIa",
        "colab_type": "text"
      },
      "source": [
        "## Preprocessing the image data"
      ]
    },
    {
      "cell_type": "code",
      "metadata": {
        "trusted": true,
        "id": "EwEqNtmn4xIj",
        "colab_type": "code",
        "colab": {}
      },
      "source": [
        "image_height, image_width =28, 28"
      ],
      "execution_count": 0,
      "outputs": []
    },
    {
      "cell_type": "code",
      "metadata": {
        "trusted": true,
        "id": "rx5l1z4i4xIs",
        "colab_type": "code",
        "colab": {}
      },
      "source": [
        "#Lets reshape each image to be a single vector rather than a matrix\n",
        "\n",
        "#Have to flatten to plug into neural net\n",
        "\n",
        "X_train  =X_train.reshape(60000,image_height*image_width)\n",
        "\n",
        "X_test   =X_test.reshape(10000,image_height*image_width)"
      ],
      "execution_count": 0,
      "outputs": []
    },
    {
      "cell_type": "code",
      "metadata": {
        "trusted": true,
        "id": "ea994ZPD4xIy",
        "colab_type": "code",
        "colab": {
          "base_uri": "https://localhost:8080/",
          "height": 50
        },
        "outputId": "e69eeec2-2cf7-4963-95da-f0b8b85b29a0"
      },
      "source": [
        "print(X_train.shape) #28X28 =784\n",
        "print(X_test.shape)\n"
      ],
      "execution_count": 7,
      "outputs": [
        {
          "output_type": "stream",
          "text": [
            "(60000, 784)\n",
            "(10000, 784)\n"
          ],
          "name": "stdout"
        }
      ]
    },
    {
      "cell_type": "code",
      "metadata": {
        "trusted": true,
        "id": "8v8d5MaK4xI-",
        "colab_type": "code",
        "colab": {
          "base_uri": "https://localhost:8080/",
          "height": 34
        },
        "outputId": "2d5ed22d-255e-43fb-a893-ba08bb8b34ea"
      },
      "source": [
        "#Check to see if image is between 0-255\n",
        "print(min(X_train[0]), max(X_train[0])) #it is! so we need to normalize\n",
        "\n",
        "#We will convert data to float (insead of int) to scale the data betwn 0-1 (not 0-255)\n",
        "\n",
        "X_train = X_train.astype('float32') #Convert to float\n",
        "X_test  = X_test.astype('float32') #Convert to float"
      ],
      "execution_count": 8,
      "outputs": [
        {
          "output_type": "stream",
          "text": [
            "0 255\n"
          ],
          "name": "stdout"
        }
      ]
    },
    {
      "cell_type": "code",
      "metadata": {
        "trusted": true,
        "id": "3AdSGgGB4xJO",
        "colab_type": "code",
        "colab": {
          "base_uri": "https://localhost:8080/",
          "height": 34
        },
        "outputId": "912bf857-10ab-46c4-f8e4-20384c1a047a"
      },
      "source": [
        "#Normalize the data\n",
        "X_train /= 255.0\n",
        "X_test  /= 255.0\n",
        "print(min(X_train[0]), max(X_train[0])) #Normalized"
      ],
      "execution_count": 9,
      "outputs": [
        {
          "output_type": "stream",
          "text": [
            "0.0 1.0\n"
          ],
          "name": "stdout"
        }
      ]
    },
    {
      "cell_type": "code",
      "metadata": {
        "trusted": true,
        "id": "7vySKtRV4xJV",
        "colab_type": "code",
        "colab": {
          "base_uri": "https://localhost:8080/",
          "height": 50
        },
        "outputId": "0cb20ce6-93e9-49f2-8e6f-76a1849c8bdb"
      },
      "source": [
        "# We want the output to be in one of 9 bins to rep each of the 0-9 numbers\n",
        "#In order to do this we can convert the answers to a categorical value\n",
        "#We do this using the 'to_categorical' method\n",
        "\n",
        "y_train =to_categorical(y_train, 10)\n",
        "y_test  =to_categorical(y_test, 10)\n",
        "print(y_train.shape)\n",
        "print(y_test.shape)"
      ],
      "execution_count": 10,
      "outputs": [
        {
          "output_type": "stream",
          "text": [
            "(60000, 10)\n",
            "(10000, 10)\n"
          ],
          "name": "stdout"
        }
      ]
    },
    {
      "cell_type": "code",
      "metadata": {
        "trusted": true,
        "id": "wjkhT5Md4xJe",
        "colab_type": "code",
        "colab": {
          "base_uri": "https://localhost:8080/",
          "height": 302
        },
        "outputId": "4c22e6ff-71ea-4b89-fabd-67d3b7b1f7ab"
      },
      "source": [
        "print(y_test[0])\n",
        "plt.imshow(X_test[0].reshape(image_height, image_width))"
      ],
      "execution_count": 11,
      "outputs": [
        {
          "output_type": "stream",
          "text": [
            "[0. 0. 0. 0. 0. 0. 0. 1. 0. 0.]\n"
          ],
          "name": "stdout"
        },
        {
          "output_type": "execute_result",
          "data": {
            "text/plain": [
              "<matplotlib.image.AxesImage at 0x7fb01975ee80>"
            ]
          },
          "metadata": {
            "tags": []
          },
          "execution_count": 11
        },
        {
          "output_type": "display_data",
          "data": {
            "image/png": "[encoded data removed]",
            "text/plain": [
              "<Figure size 432x288 with 1 Axes>"
            ]
          },
          "metadata": {
            "tags": []
          }
        }
      ]
    },
    {
      "cell_type": "markdown",
      "metadata": {
        "collapsed": true,
        "id": "0VjFhj3X4xJk",
        "colab_type": "text"
      },
      "source": [
        "## Build a model"
      ]
    },
    {
      "cell_type": "code",
      "metadata": {
        "trusted": true,
        "id": "oIfONrHx4xJl",
        "colab_type": "code",
        "colab": {
          "base_uri": "https://localhost:8080/",
          "height": 87
        },
        "outputId": "9557807b-2953-42ea-c74f-7f56a14c8262"
      },
      "source": [
        "#Assign the model type\n",
        "model = Sequential()"
      ],
      "execution_count": 12,
      "outputs": [
        {
          "output_type": "stream",
          "text": [
            "WARNING: Logging before flag parsing goes to stderr.\n",
            "W0820 07:17:37.393794 140395328268160 deprecation_wrapper.py:119] From /usr/local/lib/python3.6/dist-packages/keras/backend/tensorflow_backend.py:74: The name tf.get_default_graph is deprecated. Please use tf.compat.v1.get_default_graph instead.\n",
            "\n"
          ],
          "name": "stderr"
        }
      ]
    },
    {
      "cell_type": "code",
      "metadata": {
        "trusted": true,
        "id": "9A8JQZM04xJs",
        "colab_type": "code",
        "colab": {
          "base_uri": "https://localhost:8080/",
          "height": 104
        },
        "outputId": "046e1a5e-f1ae-47eb-8b8d-4edf41d60ee5"
      },
      "source": [
        "#Add layers to the model\n",
        "\n",
        "model.add(Dense(512, activation='relu',input_shape=(784,)))\n",
        "model.add(Dense(512, activation='relu'))\n",
        "model.add(Dense(10, activation='softmax'))\n"
      ],
      "execution_count": 13,
      "outputs": [
        {
          "output_type": "stream",
          "text": [
            "W0820 07:17:37.444703 140395328268160 deprecation_wrapper.py:119] From /usr/local/lib/python3.6/dist-packages/keras/backend/tensorflow_backend.py:517: The name tf.placeholder is deprecated. Please use tf.compat.v1.placeholder instead.\n",
            "\n",
            "W0820 07:17:37.461894 140395328268160 deprecation_wrapper.py:119] From /usr/local/lib/python3.6/dist-packages/keras/backend/tensorflow_backend.py:4138: The name tf.random_uniform is deprecated. Please use tf.random.uniform instead.\n",
            "\n"
          ],
          "name": "stderr"
        }
      ]
    },
    {
      "cell_type": "markdown",
      "metadata": {
        "collapsed": true,
        "id": "LP-CsvKe4xJz",
        "colab_type": "text"
      },
      "source": [
        "## Compile the model"
      ]
    },
    {
      "cell_type": "code",
      "metadata": {
        "trusted": true,
        "id": "QvTFXg-u4xJ1",
        "colab_type": "code",
        "colab": {
          "base_uri": "https://localhost:8080/",
          "height": 104
        },
        "outputId": "74847074-481e-40bc-c76e-53e1b25abfff"
      },
      "source": [
        "model.compile(optimizer='adam', loss='categorical_crossentropy', metrics=['accuracy'])"
      ],
      "execution_count": 14,
      "outputs": [
        {
          "output_type": "stream",
          "text": [
            "W0820 07:17:37.521929 140395328268160 deprecation_wrapper.py:119] From /usr/local/lib/python3.6/dist-packages/keras/optimizers.py:790: The name tf.train.Optimizer is deprecated. Please use tf.compat.v1.train.Optimizer instead.\n",
            "\n",
            "W0820 07:17:37.561933 140395328268160 deprecation_wrapper.py:119] From /usr/local/lib/python3.6/dist-packages/keras/backend/tensorflow_backend.py:3295: The name tf.log is deprecated. Please use tf.math.log instead.\n",
            "\n"
          ],
          "name": "stderr"
        }
      ]
    },
    {
      "cell_type": "code",
      "metadata": {
        "trusted": true,
        "id": "PfKMO0ZG4xKJ",
        "colab_type": "code",
        "colab": {
          "base_uri": "https://localhost:8080/",
          "height": 235
        },
        "outputId": "87f77004-dc1d-4c05-9474-065e647af177"
      },
      "source": [
        "model.summary()"
      ],
      "execution_count": 15,
      "outputs": [
        {
          "output_type": "stream",
          "text": [
            "_________________________________________________________________\n",
            "Layer (type)                 Output Shape              Param #   \n",
            "=================================================================\n",
            "dense_1 (Dense)              (None, 512)               401920    \n",
            "_________________________________________________________________\n",
            "dense_2 (Dense)              (None, 512)               262656    \n",
            "_________________________________________________________________\n",
            "dense_3 (Dense)              (None, 10)                5130      \n",
            "=================================================================\n",
            "Total params: 669,706\n",
            "Trainable params: 669,706\n",
            "Non-trainable params: 0\n",
            "_________________________________________________________________\n"
          ],
          "name": "stdout"
        }
      ]
    },
    {
      "cell_type": "markdown",
      "metadata": {
        "trusted": false,
        "id": "VsUcGruk4xKT",
        "colab_type": "text"
      },
      "source": [
        "## Calculating the number of parameters for each layer\n",
        "\n",
        "### *Layer 1*\n",
        "* After flattening each image we get:\n",
        "    * 28 X 28=784\n",
        "* We then pass the 784 into 512 nodes in the model plus a bias layer 512 (zeros)\n",
        "* This gives:\n",
        "    * 784(pixels) X 512(neurons) X 512(bias)=401920\n",
        "\n",
        "\n",
        "### *Layer 2*\n",
        "* We have 512 (output from previous), going into another 512 nodes (in new layer), plus another 512\n",
        "* This gives:\n",
        "    * 512 (input) X 512 (this layer) X 512 =262656\n",
        "\n",
        "### *Layer 3*\n",
        "* We have 512 (incoming from last layer), going into 10 nodes (in this layer), 10 bias units\n",
        "* This gives:\n",
        "   * 512 (last layer) X 10 (nodes in this layer) + 10 (bias) =5130"
      ]
    },
    {
      "cell_type": "markdown",
      "metadata": {
        "collapsed": true,
        "id": "yv7z0XEy4xKV",
        "colab_type": "text"
      },
      "source": [
        "## Train the model"
      ]
    },
    {
      "cell_type": "markdown",
      "metadata": {
        "trusted": false,
        "id": "ADrfMYRt4xKa",
        "colab_type": "text"
      },
      "source": [
        "Now we can trian our model. \n",
        "To do this we have to pass:\n",
        "* Training data\n",
        "* Number of epochs (the number of times that model passes through the training data)\n",
        "* Validation data (testing data)\n"
      ]
    },
    {
      "cell_type": "code",
      "metadata": {
        "trusted": true,
        "id": "4j7mV13_4xKf",
        "colab_type": "code",
        "colab": {
          "base_uri": "https://localhost:8080/",
          "height": 810
        },
        "outputId": "9d619d22-ed7e-4a6f-e2bc-d40d36cb8b83"
      },
      "source": [
        "history =model.fit(X_train, y_train, epochs =20, validation_data=(X_test, y_test))"
      ],
      "execution_count": 16,
      "outputs": [
        {
          "output_type": "stream",
          "text": [
            "W0820 07:17:37.736055 140395328268160 deprecation.py:323] From /usr/local/lib/python3.6/dist-packages/tensorflow/python/ops/math_grad.py:1250: add_dispatch_support.<locals>.wrapper (from tensorflow.python.ops.array_ops) is deprecated and will be removed in a future version.\n",
            "Instructions for updating:\n",
            "Use tf.where in 2.0, which has the same broadcast rule as np.where\n",
            "W0820 07:17:37.796303 140395328268160 deprecation_wrapper.py:119] From /usr/local/lib/python3.6/dist-packages/keras/backend/tensorflow_backend.py:986: The name tf.assign_add is deprecated. Please use tf.compat.v1.assign_add instead.\n",
            "\n"
          ],
          "name": "stderr"
        },
        {
          "output_type": "stream",
          "text": [
            "Train on 60000 samples, validate on 10000 samples\n",
            "Epoch 1/20\n",
            "60000/60000 [==============================] - 24s 394us/step - loss: 0.1828 - acc: 0.9440 - val_loss: 0.0929 - val_acc: 0.9705\n",
            "Epoch 2/20\n",
            "60000/60000 [==============================] - 23s 386us/step - loss: 0.0808 - acc: 0.9757 - val_loss: 0.0827 - val_acc: 0.9743\n",
            "Epoch 3/20\n",
            "60000/60000 [==============================] - 23s 389us/step - loss: 0.0565 - acc: 0.9828 - val_loss: 0.0695 - val_acc: 0.9786\n",
            "Epoch 4/20\n",
            "60000/60000 [==============================] - 23s 381us/step - loss: 0.0429 - acc: 0.9864 - val_loss: 0.0832 - val_acc: 0.9774\n",
            "Epoch 5/20\n",
            "60000/60000 [==============================] - 23s 386us/step - loss: 0.0353 - acc: 0.9887 - val_loss: 0.0921 - val_acc: 0.9745\n",
            "Epoch 6/20\n",
            "60000/60000 [==============================] - 23s 387us/step - loss: 0.0287 - acc: 0.9910 - val_loss: 0.0819 - val_acc: 0.9782\n",
            "Epoch 7/20\n",
            "60000/60000 [==============================] - 23s 387us/step - loss: 0.0272 - acc: 0.9914 - val_loss: 0.0807 - val_acc: 0.9802\n",
            "Epoch 8/20\n",
            "60000/60000 [==============================] - 24s 395us/step - loss: 0.0237 - acc: 0.9924 - val_loss: 0.1136 - val_acc: 0.9771\n",
            "Epoch 9/20\n",
            "60000/60000 [==============================] - 23s 390us/step - loss: 0.0201 - acc: 0.9938 - val_loss: 0.1083 - val_acc: 0.9800\n",
            "Epoch 10/20\n",
            "60000/60000 [==============================] - 23s 381us/step - loss: 0.0202 - acc: 0.9939 - val_loss: 0.1016 - val_acc: 0.9798\n",
            "Epoch 11/20\n",
            "60000/60000 [==============================] - 23s 390us/step - loss: 0.0170 - acc: 0.9951 - val_loss: 0.1167 - val_acc: 0.9783\n",
            "Epoch 12/20\n",
            "60000/60000 [==============================] - 23s 387us/step - loss: 0.0175 - acc: 0.9948 - val_loss: 0.1026 - val_acc: 0.9805\n",
            "Epoch 13/20\n",
            "60000/60000 [==============================] - 23s 381us/step - loss: 0.0179 - acc: 0.9950 - val_loss: 0.1039 - val_acc: 0.9811\n",
            "Epoch 14/20\n",
            "60000/60000 [==============================] - 23s 377us/step - loss: 0.0155 - acc: 0.9956 - val_loss: 0.1173 - val_acc: 0.9809\n",
            "Epoch 15/20\n",
            "60000/60000 [==============================] - 22s 374us/step - loss: 0.0179 - acc: 0.9947 - val_loss: 0.1135 - val_acc: 0.9801\n",
            "Epoch 16/20\n",
            "60000/60000 [==============================] - 25s 415us/step - loss: 0.0126 - acc: 0.9965 - val_loss: 0.1391 - val_acc: 0.9792\n",
            "Epoch 17/20\n",
            "60000/60000 [==============================] - 24s 397us/step - loss: 0.0151 - acc: 0.9964 - val_loss: 0.1211 - val_acc: 0.9819\n",
            "Epoch 18/20\n",
            "60000/60000 [==============================] - 24s 400us/step - loss: 0.0159 - acc: 0.9962 - val_loss: 0.1208 - val_acc: 0.9800\n",
            "Epoch 19/20\n",
            "60000/60000 [==============================] - 24s 403us/step - loss: 0.0166 - acc: 0.9960 - val_loss: 0.1309 - val_acc: 0.9808\n",
            "Epoch 20/20\n",
            "60000/60000 [==============================] - 24s 397us/step - loss: 0.0133 - acc: 0.9965 - val_loss: 0.1310 - val_acc: 0.9813\n"
          ],
          "name": "stdout"
        }
      ]
    },
    {
      "cell_type": "code",
      "metadata": {
        "trusted": false,
        "id": "tcWxxJcE4xKl",
        "colab_type": "code",
        "colab": {}
      },
      "source": [
        ""
      ],
      "execution_count": 0,
      "outputs": []
    },
    {
      "cell_type": "markdown",
      "metadata": {
        "id": "jGDWqxk44xKv",
        "colab_type": "text"
      },
      "source": [
        "## What is the accuracy of the model?"
      ]
    },
    {
      "cell_type": "markdown",
      "metadata": {
        "id": "eIkdo9jw4xKx",
        "colab_type": "text"
      },
      "source": [
        "### Plot the accuracy of the training model"
      ]
    },
    {
      "cell_type": "code",
      "metadata": {
        "trusted": true,
        "id": "mAWogC6R4xK1",
        "colab_type": "code",
        "colab": {
          "base_uri": "https://localhost:8080/",
          "height": 1000
        },
        "outputId": "86cce339-8f00-4f65-c8ad-69255eef9c4f"
      },
      "source": [
        "#Look at the attributes in the history object to find the accuracy\n",
        "history.__dict__"
      ],
      "execution_count": 17,
      "outputs": [
        {
          "output_type": "execute_result",
          "data": {
            "text/plain": [
              "{'epoch': [0,\n",
              "  1,\n",
              "  2,\n",
              "  3,\n",
              "  4,\n",
              "  5,\n",
              "  6,\n",
              "  7,\n",
              "  8,\n",
              "  9,\n",
              "  10,\n",
              "  11,\n",
              "  12,\n",
              "  13,\n",
              "  14,\n",
              "  15,\n",
              "  16,\n",
              "  17,\n",
              "  18,\n",
              "  19],\n",
              " 'history': {'acc': [0.9439666666666666,\n",
              "   0.9757333333333333,\n",
              "   0.9827833333333333,\n",
              "   0.9864166666666667,\n",
              "   0.9886666666666667,\n",
              "   0.9910333333333333,\n",
              "   0.9914,\n",
              "   0.99245,\n",
              "   0.9938166666666667,\n",
              "   0.9939,\n",
              "   0.99515,\n",
              "   0.9948,\n",
              "   0.9950166666666667,\n",
              "   0.9956333333333334,\n",
              "   0.9947333333333334,\n",
              "   0.9965166666666667,\n",
              "   0.9963833333333333,\n",
              "   0.9962166666666666,\n",
              "   0.99595,\n",
              "   0.99645],\n",
              "  'loss': [0.1827596818920225,\n",
              "   0.08079896697839722,\n",
              "   0.05645396511411139,\n",
              "   0.04291815567353721,\n",
              "   0.03526910000597515,\n",
              "   0.02873079521368248,\n",
              "   0.02715607473684601,\n",
              "   0.023650182965393438,\n",
              "   0.020055528101623546,\n",
              "   0.02019607128013062,\n",
              "   0.016955279541049723,\n",
              "   0.017472221146037314,\n",
              "   0.017864977817751575,\n",
              "   0.015457480643335983,\n",
              "   0.017869793417473495,\n",
              "   0.012631182595215281,\n",
              "   0.015135916414613901,\n",
              "   0.015882995463786898,\n",
              "   0.016569432756344288,\n",
              "   0.013335457366452594],\n",
              "  'val_acc': [0.9705,\n",
              "   0.9743,\n",
              "   0.9786,\n",
              "   0.9774,\n",
              "   0.9745,\n",
              "   0.9782,\n",
              "   0.9802,\n",
              "   0.9771,\n",
              "   0.98,\n",
              "   0.9798,\n",
              "   0.9783,\n",
              "   0.9805,\n",
              "   0.9811,\n",
              "   0.9809,\n",
              "   0.9801,\n",
              "   0.9792,\n",
              "   0.9819,\n",
              "   0.98,\n",
              "   0.9808,\n",
              "   0.9813],\n",
              "  'val_loss': [0.09286645495379343,\n",
              "   0.08266143489209934,\n",
              "   0.069480553943431,\n",
              "   0.08320518101718044,\n",
              "   0.09206652115154429,\n",
              "   0.08190068501315655,\n",
              "   0.08067529291427782,\n",
              "   0.11358439496830543,\n",
              "   0.10833151409866154,\n",
              "   0.10160923933375093,\n",
              "   0.11671308373045626,\n",
              "   0.10255490619101375,\n",
              "   0.10387474813488247,\n",
              "   0.11728941089477675,\n",
              "   0.11347036018394005,\n",
              "   0.13906407877868832,\n",
              "   0.12108565404413693,\n",
              "   0.120797497302599,\n",
              "   0.1309188434239974,\n",
              "   0.13095201672244552]},\n",
              " 'model': <keras.engine.sequential.Sequential at 0x7fb0320f3400>,\n",
              " 'params': {'batch_size': 32,\n",
              "  'do_validation': True,\n",
              "  'epochs': 20,\n",
              "  'metrics': ['loss', 'acc', 'val_loss', 'val_acc'],\n",
              "  'samples': 60000,\n",
              "  'steps': None,\n",
              "  'verbose': 1},\n",
              " 'validation_data': [array([[0., 0., 0., ..., 0., 0., 0.],\n",
              "         [0., 0., 0., ..., 0., 0., 0.],\n",
              "         [0., 0., 0., ..., 0., 0., 0.],\n",
              "         ...,\n",
              "         [0., 0., 0., ..., 0., 0., 0.],\n",
              "         [0., 0., 0., ..., 0., 0., 0.],\n",
              "         [0., 0., 0., ..., 0., 0., 0.]], dtype=float32),\n",
              "  array([[0., 0., 0., ..., 1., 0., 0.],\n",
              "         [0., 0., 1., ..., 0., 0., 0.],\n",
              "         [0., 1., 0., ..., 0., 0., 0.],\n",
              "         ...,\n",
              "         [0., 0., 0., ..., 0., 0., 0.],\n",
              "         [0., 0., 0., ..., 0., 0., 0.],\n",
              "         [0., 0., 0., ..., 0., 0., 0.]], dtype=float32),\n",
              "  array([1., 1., 1., ..., 1., 1., 1.], dtype=float32)]}"
            ]
          },
          "metadata": {
            "tags": []
          },
          "execution_count": 17
        }
      ]
    },
    {
      "cell_type": "code",
      "metadata": {
        "trusted": true,
        "id": "4fuXN2Rq4xK6",
        "colab_type": "code",
        "colab": {
          "base_uri": "https://localhost:8080/",
          "height": 312
        },
        "outputId": "e13ffeb1-9f2e-45dc-9ebe-764dc8c4375c"
      },
      "source": [
        "#Plot the accuracy \n",
        "plt.plot(history.history['acc'],label='train')\n",
        "plt.xlabel('Epoch Number')\n",
        "plt.ylabel('Accuracy')\n",
        "plt.title('Model Accuracy Over Epoch')\n",
        "plt.legend()"
      ],
      "execution_count": 23,
      "outputs": [
        {
          "output_type": "execute_result",
          "data": {
            "text/plain": [
              "<matplotlib.legend.Legend at 0x7fb013ca8dd8>"
            ]
          },
          "metadata": {
            "tags": []
          },
          "execution_count": 23
        },
        {
          "output_type": "display_data",
          "data": {
            "image/png": "[encoded data removed]",
            "text/plain": [
              "<Figure size 432x288 with 1 Axes>"
            ]
          },
          "metadata": {
            "tags": []
          }
        }
      ]
    },
    {
      "cell_type": "markdown",
      "metadata": {
        "collapsed": true,
        "id": "hCCz4XZ64xLC",
        "colab_type": "text"
      },
      "source": [
        "### Plot the accuracy of training and validation set"
      ]
    },
    {
      "cell_type": "code",
      "metadata": {
        "trusted": true,
        "id": "wuGKI6To4xLF",
        "colab_type": "code",
        "colab": {
          "base_uri": "https://localhost:8080/",
          "height": 312
        },
        "outputId": "a463ab6c-b3fd-48df-d238-454d83377d94"
      },
      "source": [
        "#Plot the accuracy of training data and validation data\n",
        "plt.plot(history.history['acc'],label='train')\n",
        "plt.plot(history.history['val_acc'],label='val')\n",
        "plt.xlabel('Epoch Number')\n",
        "plt.ylabel('Accuracy')\n",
        "plt.title('Model Accuracy Over Epoch')\n",
        "plt.legend()"
      ],
      "execution_count": 24,
      "outputs": [
        {
          "output_type": "execute_result",
          "data": {
            "text/plain": [
              "<matplotlib.legend.Legend at 0x7fb013bfbfd0>"
            ]
          },
          "metadata": {
            "tags": []
          },
          "execution_count": 24
        },
        {
          "output_type": "display_data",
          "data": {
            "image/png": "[encoded data removed]",
            "text/plain": [
              "<Figure size 432x288 with 1 Axes>"
            ]
          },
          "metadata": {
            "tags": []
          }
        }
      ]
    },
    {
      "cell_type": "markdown",
      "metadata": {
        "collapsed": true,
        "id": "V3XNjXN14xLQ",
        "colab_type": "text"
      },
      "source": [
        "### Accuracy of training and validation with loss"
      ]
    },
    {
      "cell_type": "code",
      "metadata": {
        "trusted": true,
        "id": "X2qLlzei4xLS",
        "colab_type": "code",
        "colab": {
          "base_uri": "https://localhost:8080/",
          "height": 312
        },
        "outputId": "20dc2f33-ec3d-45f0-f72d-4e7f81df1516"
      },
      "source": [
        "#Plot the accuracy of training data and validation data AND loss\n",
        "plt.plot(history.history['acc'],label='train')\n",
        "plt.plot(history.history['val_acc'],label='val')\n",
        "plt.plot(history.history['loss'],label='loss')\n",
        "plt.xlabel('Epoch Number')\n",
        "plt.ylabel('Accuracy')\n",
        "plt.title('Model Accuracy Over Epoch')\n",
        "plt.legend()\n",
        "# plt.yscale('log')"
      ],
      "execution_count": 25,
      "outputs": [
        {
          "output_type": "execute_result",
          "data": {
            "text/plain": [
              "<matplotlib.legend.Legend at 0x7fb013be43c8>"
            ]
          },
          "metadata": {
            "tags": []
          },
          "execution_count": 25
        },
        {
          "output_type": "display_data",
          "data": {
            "image/png": "[encoded data removed]",
            "text/plain": [
              "<Figure size 432x288 with 1 Axes>"
            ]
          },
          "metadata": {
            "tags": []
          }
        }
      ]
    },
    {
      "cell_type": "markdown",
      "metadata": {
        "id": "sRXDnLIw4xLZ",
        "colab_type": "text"
      },
      "source": [
        "## Evaluating model"
      ]
    },
    {
      "cell_type": "code",
      "metadata": {
        "trusted": true,
        "id": "xLxuJrSI4xLb",
        "colab_type": "code",
        "colab": {
          "base_uri": "https://localhost:8080/",
          "height": 34
        },
        "outputId": "1a740989-b51b-4e2c-a08a-381f39e46af9"
      },
      "source": [
        "score=model.evaluate(X_test, y_test)"
      ],
      "execution_count": 21,
      "outputs": [
        {
          "output_type": "stream",
          "text": [
            "10000/10000 [==============================] - 1s 84us/step\n"
          ],
          "name": "stdout"
        }
      ]
    },
    {
      "cell_type": "code",
      "metadata": {
        "trusted": true,
        "id": "JG3xVYdd4xLj",
        "colab_type": "code",
        "colab": {
          "base_uri": "https://localhost:8080/",
          "height": 34
        },
        "outputId": "05586442-a066-4006-a87d-fc4c29c68426"
      },
      "source": [
        "#We get score as a list\n",
        "#The second item in score gives us the accuracy of or model\n",
        "score"
      ],
      "execution_count": 22,
      "outputs": [
        {
          "output_type": "execute_result",
          "data": {
            "text/plain": [
              "[0.13095201672244552, 0.9813]"
            ]
          },
          "metadata": {
            "tags": []
          },
          "execution_count": 22
        }
      ]
    }
  ]
}