{
  "cells": [
    {
      "cell_type": "markdown",
      "metadata": {
        "colab_type": "text",
        "id": "view-in-github"
      },
      "source": [
        "<a href=\"https://colab.research.google.com/github/ngebodh/MachineLearning/blob/master/DeepLearning/ImageRecog/DeepLearning_DigitClassificationWithKeras.ipynb\" target=\"_parent\"><img src=\"https://colab.research.google.com/assets/colab-badge.svg\" alt=\"Open In Colab\"/></a>"
      ]
    },
    {
      "cell_type": "markdown",
      "metadata": {
        "colab_type": "text",
        "collapsed": true,
        "id": "obZEfolG4xHj"
      },
      "source": [
        "# Digit Classification with Neural Networks"
      ]
    },
    {
      "cell_type": "markdown",
      "metadata": {
        "colab_type": "text",
        "id": "4jtHr7EC4xHo"
      },
      "source": [
        "## About this project\n",
        "Our goal with this notebook is to build a neural network classifier in Keras to recognize hand-written digits. We will use the MNIST data set that consists of thousands of hand writtent numbers that span 0-9\n",
        "\n",
        "Similar to the process shown below:\n",
        "\n",
        "<img src=\"https://i.ytimg.com/vi/ur6JY2Hl-MM/hqdefault.jpg\" width=\"25%\" hight=\"50%\">"
      ]
    },
    {
      "cell_type": "markdown",
      "metadata": {
        "colab_type": "text",
        "id": "9oLA4Heh4xHq"
      },
      "source": [
        "## Import Libraries\n",
        "\n",
        "Here we import the libraries that we will be using throughout the notebook.\n",
        "\n",
        "The libraries that we will be using include:<br/>\n",
        "* [Numpy](https://www.numpy.org/)\n",
        "* [Keras](https://keras.io/)\n",
        "* [Matplotlib](https://matplotlib.org/) <-for plotting and visualizations"
      ]
    },
    {
      "cell_type": "code",
      "execution_count": 1,
      "metadata": {
        "colab": {
          "base_uri": "https://localhost:8080/",
          "height": 34
        },
        "colab_type": "code",
        "id": "HB6rnLAz4xHs",
        "outputId": "23a111f9-04d8-4279-e3b0-3767f6e6d73b",
        "trusted": true
      },
      "outputs": [
        {
          "name": "stderr",
          "output_type": "stream",
          "text": [
            "Using TensorFlow backend.\n"
          ]
        }
      ],
      "source": [
        "from keras.datasets import mnist\n",
        "from keras.preprocessing.image import load_img, array_to_img\n",
        "from keras.utils.np_utils import to_categorical\n",
        "from keras.models import Sequential\n",
        "from keras.layers import Dense\n",
        "\n",
        "import numpy as np\n",
        "import matplotlib.pyplot as plt\n",
        "%matplotlib inline"
      ]
    },
    {
      "cell_type": "markdown",
      "metadata": {
        "colab_type": "text",
        "id": "MrFQgWRQ4xH7"
      },
      "source": [
        "## Load the data"
      ]
    },
    {
      "cell_type": "code",
      "execution_count": 2,
      "metadata": {
        "colab": {
          "base_uri": "https://localhost:8080/",
          "height": 50
        },
        "colab_type": "code",
        "id": "dH1okxfx4xH-",
        "outputId": "e9e9361c-464e-409f-840e-960741361605",
        "trusted": true
      },
      "outputs": [
        {
          "name": "stdout",
          "output_type": "stream",
          "text": [
            "Downloading data from https://s3.amazonaws.com/img-datasets/mnist.npz\n",
            "11493376/11490434 [==============================] - 1s 0us/step\n"
          ]
        }
      ],
      "source": [
        "(X_train, y_train), (X_test, y_test) = mnist.load_data()"
      ]
    },
    {
      "cell_type": "code",
      "execution_count": 3,
      "metadata": {
        "colab": {
          "base_uri": "https://localhost:8080/",
          "height": 101
        },
        "colab_type": "code",
        "id": "ACVJd8884xIG",
        "outputId": "3b27fd04-95cb-41a0-c0af-696cdcb90ed8",
        "trusted": true
      },
      "outputs": [
        {
          "name": "stdout",
          "output_type": "stream",
          "text": [
            "<class 'numpy.ndarray'>\n",
            "(60000, 28, 28)\n",
            "(60000,)\n",
            "(10000, 28, 28)\n",
            "(10000,)\n"
          ]
        }
      ],
      "source": [
        "print(type(X_train))\n",
        "print(X_train.shape)\n",
        "print(y_train.shape) #60k is the answers\n",
        "print(X_test.shape)  #10K entries\n",
        "print(y_test.shape)\n",
        "\n"
      ]
    },
    {
      "cell_type": "markdown",
      "metadata": {
        "colab_type": "text",
        "collapsed": true,
        "id": "JS8ISwOt4xIR"
      },
      "source": [
        "## Understanding the image data format"
      ]
    },
    {
      "cell_type": "code",
      "execution_count": 4,
      "metadata": {
        "colab": {
          "base_uri": "https://localhost:8080/",
          "height": 302
        },
        "colab_type": "code",
        "id": "YEEJkppA4xIT",
        "outputId": "4e5b1aa8-12f7-4d9b-cc5b-e78dcb7c62e0",
        "trusted": true
      },
      "outputs": [
        {
          "name": "stdout",
          "output_type": "stream",
          "text": [
            "(28, 28)\n",
            "The answer is 5\n"
          ]
        },
        {
          "data": {
            "image/png": "[encoded data removed]",
            "text/plain": [
              "<Figure size 432x288 with 1 Axes>"
            ]
          },
          "metadata": {
            "tags": []
          },
          "output_type": "display_data"
        }
      ],
      "source": [
        "#Lets look at the data to see what it looks like\n",
        "print(X_train[0].shape) #Look at the size of the 1st entry\n",
        "\n",
        "#Plot it to see what it looks like\n",
        "\n",
        "plt.imshow(X_train[0])\n",
        "\n",
        "#Print the answer\n",
        "print(\"The answer is {}\".format(y_train[0]))"
      ]
    },
    {
      "cell_type": "markdown",
      "metadata": {
        "colab_type": "text",
        "id": "tmiVKhIZ4xIa"
      },
      "source": [
        "## Preprocessing the image data"
      ]
    },
    {
      "cell_type": "code",
      "execution_count": null,
      "metadata": {
        "colab": {},
        "colab_type": "code",
        "id": "EwEqNtmn4xIj",
        "trusted": true
      },
      "outputs": [],
      "source": [
        "image_height, image_width =28, 28"
      ]
    },
    {
      "cell_type": "code",
      "execution_count": null,
      "metadata": {
        "colab": {},
        "colab_type": "code",
        "id": "rx5l1z4i4xIs",
        "trusted": true
      },
      "outputs": [],
      "source": [
        "#Lets reshape each image to be a single vector rather than a matrix\n",
        "\n",
        "#Have to flatten to plug into neural net\n",
        "\n",
        "X_train  =X_train.reshape(60000,image_height*image_width)\n",
        "\n",
        "X_test   =X_test.reshape(10000,image_height*image_width)"
      ]
    },
    {
      "cell_type": "code",
      "execution_count": 7,
      "metadata": {
        "colab": {
          "base_uri": "https://localhost:8080/",
          "height": 50
        },
        "colab_type": "code",
        "id": "ea994ZPD4xIy",
        "outputId": "e69eeec2-2cf7-4963-95da-f0b8b85b29a0",
        "trusted": true
      },
      "outputs": [
        {
          "name": "stdout",
          "output_type": "stream",
          "text": [
            "(60000, 784)\n",
            "(10000, 784)\n"
          ]
        }
      ],
      "source": [
        "print(X_train.shape) #28X28 =784\n",
        "print(X_test.shape)\n"
      ]
    },
    {
      "cell_type": "code",
      "execution_count": 8,
      "metadata": {
        "colab": {
          "base_uri": "https://localhost:8080/",
          "height": 34
        },
        "colab_type": "code",
        "id": "8v8d5MaK4xI-",
        "outputId": "2d5ed22d-255e-43fb-a893-ba08bb8b34ea",
        "trusted": true
      },
      "outputs": [
        {
          "name": "stdout",
          "output_type": "stream",
          "text": [
            "0 255\n"
          ]
        }
      ],
      "source": [
        "#Check to see if image is between 0-255\n",
        "print(min(X_train[0]), max(X_train[0])) #it is! so we need to normalize\n",
        "\n",
        "#We will convert data to float (insead of int) to scale the data betwn 0-1 (not 0-255)\n",
        "\n",
        "X_train = X_train.astype('float32') #Convert to float\n",
        "X_test  = X_test.astype('float32') #Convert to float"
      ]
    },
    {
      "cell_type": "code",
      "execution_count": 9,
      "metadata": {
        "colab": {
          "base_uri": "https://localhost:8080/",
          "height": 34
        },
        "colab_type": "code",
        "id": "3AdSGgGB4xJO",
        "outputId": "912bf857-10ab-46c4-f8e4-20384c1a047a",
        "trusted": true
      },
      "outputs": [
        {
          "name": "stdout",
          "output_type": "stream",
          "text": [
            "0.0 1.0\n"
          ]
        }
      ],
      "source": [
        "#Normalize the data\n",
        "X_train /= 255.0\n",
        "X_test  /= 255.0\n",
        "print(min(X_train[0]), max(X_train[0])) #Normalized"
      ]
    },
    {
      "cell_type": "code",
      "execution_count": 10,
      "metadata": {
        "colab": {
          "base_uri": "https://localhost:8080/",
          "height": 50
        },
        "colab_type": "code",
        "id": "7vySKtRV4xJV",
        "outputId": "0cb20ce6-93e9-49f2-8e6f-76a1849c8bdb",
        "trusted": true
      },
      "outputs": [
        {
          "name": "stdout",
          "output_type": "stream",
          "text": [
            "(60000, 10)\n",
            "(10000, 10)\n"
          ]
        }
      ],
      "source": [
        "# We want the output to be in one of 9 bins to rep each of the 0-9 numbers\n",
        "#In order to do this we can convert the answers to a categorical value\n",
        "#We do this using the 'to_categorical' method\n",
        "\n",
        "y_train =to_categorical(y_train, 10)\n",
        "y_test  =to_categorical(y_test, 10)\n",
        "print(y_train.shape)\n",
        "print(y_test.shape)"
      ]
    },
    {
      "cell_type": "code",
      "execution_count": 11,
      "metadata": {
        "colab": {
          "base_uri": "https://localhost:8080/",
          "height": 302
        },
        "colab_type": "code",
        "id": "wjkhT5Md4xJe",
        "outputId": "4c22e6ff-71ea-4b89-fabd-67d3b7b1f7ab",
        "trusted": true
      },
      "outputs": [
        {
          "name": "stdout",
          "output_type": "stream",
          "text": [
            "[0. 0. 0. 0. 0. 0. 0. 1. 0. 0.]\n"
          ]
        },
        {
          "data": {
            "text/plain": [
              "<matplotlib.image.AxesImage at 0x7fb01975ee80>"
            ]
          },
          "execution_count": 11,
          "metadata": {
            "tags": []
          },
          "output_type": "execute_result"
        },
        {
          "data": {
            "image/png": "[encoded data removed]",
            "text/plain": [
              "<Figure size 432x288 with 1 Axes>"
            ]
          },
          "metadata": {
            "tags": []
          },
          "output_type": "display_data"
        }
      ],
      "source": [
        "print(y_test[0])\n",
        "plt.imshow(X_test[0].reshape(image_height, image_width))"
      ]
    },
    {
      "cell_type": "markdown",
      "metadata": {
        "colab_type": "text",
        "collapsed": true,
        "id": "0VjFhj3X4xJk"
      },
      "source": [
        "## Build a model"
      ]
    },
    {
      "cell_type": "code",
      "execution_count": 12,
      "metadata": {
        "colab": {
          "base_uri": "https://localhost:8080/",
          "height": 87
        },
        "colab_type": "code",
        "id": "oIfONrHx4xJl",
        "outputId": "9557807b-2953-42ea-c74f-7f56a14c8262",
        "trusted": true
      },
      "outputs": [
        {
          "name": "stderr",
          "output_type": "stream",
          "text": [
            "WARNING: Logging before flag parsing goes to stderr.\n",
            "W0820 07:17:37.393794 140395328268160 deprecation_wrapper.py:119] From /usr/local/lib/python3.6/dist-packages/keras/backend/tensorflow_backend.py:74: The name tf.get_default_graph is deprecated. Please use tf.compat.v1.get_default_graph instead.\n",
            "\n"
          ]
        }
      ],
      "source": [
        "#Assign the model type\n",
        "model = Sequential()"
      ]
    },
    {
      "cell_type": "code",
      "execution_count": 13,
      "metadata": {
        "colab": {
          "base_uri": "https://localhost:8080/",
          "height": 104
        },
        "colab_type": "code",
        "id": "9A8JQZM04xJs",
        "outputId": "046e1a5e-f1ae-47eb-8b8d-4edf41d60ee5",
        "trusted": true
      },
      "outputs": [
        {
          "name": "stderr",
          "output_type": "stream",
          "text": [
            "W0820 07:17:37.444703 140395328268160 deprecation_wrapper.py:119] From /usr/local/lib/python3.6/dist-packages/keras/backend/tensorflow_backend.py:517: The name tf.placeholder is deprecated. Please use tf.compat.v1.placeholder instead.\n",
            "\n",
            "W0820 07:17:37.461894 140395328268160 deprecation_wrapper.py:119] From /usr/local/lib/python3.6/dist-packages/keras/backend/tensorflow_backend.py:4138: The name tf.random_uniform is deprecated. Please use tf.random.uniform instead.\n",
            "\n"
          ]
        }
      ],
      "source": [
        "#Add layers to the model\n",
        "\n",
        "model.add(Dense(512, activation='relu',input_shape=(784,)))\n",
        "model.add(Dense(512, activation='relu'))\n",
        "model.add(Dense(10, activation='softmax'))\n"
      ]
    },
    {
      "cell_type": "markdown",
      "metadata": {
        "colab_type": "text",
        "collapsed": true,
        "id": "LP-CsvKe4xJz"
      },
      "source": [
        "## Compile the model"
      ]
    },
    {
      "cell_type": "code",
      "execution_count": 14,
      "metadata": {
        "colab": {
          "base_uri": "https://localhost:8080/",
          "height": 104
        },
        "colab_type": "code",
        "id": "QvTFXg-u4xJ1",
        "outputId": "74847074-481e-40bc-c76e-53e1b25abfff",
        "trusted": true
      },
      "outputs": [
        {
          "name": "stderr",
          "output_type": "stream",
          "text": [
            "W0820 07:17:37.521929 140395328268160 deprecation_wrapper.py:119] From /usr/local/lib/python3.6/dist-packages/keras/optimizers.py:790: The name tf.train.Optimizer is deprecated. Please use tf.compat.v1.train.Optimizer instead.\n",
            "\n",
            "W0820 07:17:37.561933 140395328268160 deprecation_wrapper.py:119] From /usr/local/lib/python3.6/dist-packages/keras/backend/tensorflow_backend.py:3295: The name tf.log is deprecated. Please use tf.math.log instead.\n",
            "\n"
          ]
        }
      ],
      "source": [
        "model.compile(optimizer='adam', loss='categorical_crossentropy', metrics=['accuracy'])"
      ]
    },
    {
      "cell_type": "code",
      "execution_count": 15,
      "metadata": {
        "colab": {
          "base_uri": "https://localhost:8080/",
          "height": 235
        },
        "colab_type": "code",
        "id": "PfKMO0ZG4xKJ",
        "outputId": "87f77004-dc1d-4c05-9474-065e647af177",
        "trusted": true
      },
      "outputs": [
        {
          "name": "stdout",
          "output_type": "stream",
          "text": [
            "_________________________________________________________________\n",
            "Layer (type)                 Output Shape              Param #   \n",
            "=================================================================\n",
            "dense_1 (Dense)              (None, 512)               401920    \n",
            "_________________________________________________________________\n",
            "dense_2 (Dense)              (None, 512)               262656    \n",
            "_________________________________________________________________\n",
            "dense_3 (Dense)              (None, 10)                5130      \n",
            "=================================================================\n",
            "Total params: 669,706\n",
            "Trainable params: 669,706\n",
            "Non-trainable params: 0\n",
            "_________________________________________________________________\n"
          ]
        }
      ],
      "source": [
        "model.summary()"
      ]
    },
    {
      "cell_type": "markdown",
      "metadata": {
        "colab_type": "text",
        "id": "VsUcGruk4xKT",
        "trusted": false
      },
      "source": [
        "## Calculating the number of parameters for each layer\n",
        "\n",
        "### *Layer 1*\n",
        "* After flattening each image we get:\n",
        "    * 28 X 28=784\n",
        "* We then pass the 784 into 512 nodes in the model plus a bias layer 512 (zeros)\n",
        "* This gives:\n",
        "    * 784(pixels) X 512(neurons) X 512(bias)=401920\n",
        "\n",
        "\n",
        "### *Layer 2*\n",
        "* We have 512 (output from previous), going into another 512 nodes (in new layer), plus another 512\n",
        "* This gives:\n",
        "    * 512 (input) X 512 (this layer) X 512 =262656\n",
        "\n",
        "### *Layer 3*\n",
        "* We have 512 (incoming from last layer), going into 10 nodes (in this layer), 10 bias units\n",
        "* This gives:\n",
        "   * 512 (last layer) X 10 (nodes in this layer) + 10 (bias) =5130"
      ]
    },
    {
      "cell_type": "markdown",
      "metadata": {
        "colab_type": "text",
        "collapsed": true,
        "id": "yv7z0XEy4xKV"
      },
      "source": [
        "## Train the model"
      ]
    },
    {
      "cell_type": "markdown",
      "metadata": {
        "colab_type": "text",
        "id": "ADrfMYRt4xKa",
        "trusted": false
      },
      "source": [
        "Now we can train our model. \n",
        "To do this we have to pass:\n",
        "* Training data\n",
        "* Number of epochs (the number of times that model passes through the training data)\n",
        "* Validation data (testing data)\n"
      ]
    },
    {
      "cell_type": "code",
      "execution_count": 16,
      "metadata": {
        "colab": {
          "base_uri": "https://localhost:8080/",
          "height": 810
        },
        "colab_type": "code",
        "id": "4j7mV13_4xKf",
        "outputId": "9d619d22-ed7e-4a6f-e2bc-d40d36cb8b83",
        "trusted": true
      },
      "outputs": [
        {
          "name": "stderr",
          "output_type": "stream",
          "text": [
            "W0820 07:17:37.736055 140395328268160 deprecation.py:323] From /usr/local/lib/python3.6/dist-packages/tensorflow/python/ops/math_grad.py:1250: add_dispatch_support.<locals>.wrapper (from tensorflow.python.ops.array_ops) is deprecated and will be removed in a future version.\n",
            "Instructions for updating:\n",
            "Use tf.where in 2.0, which has the same broadcast rule as np.where\n",
            "W0820 07:17:37.796303 140395328268160 deprecation_wrapper.py:119] From /usr/local/lib/python3.6/dist-packages/keras/backend/tensorflow_backend.py:986: The name tf.assign_add is deprecated. Please use tf.compat.v1.assign_add instead.\n",
            "\n"
          ]
        },
        {
          "name": "stdout",
          "output_type": "stream",
          "text": [
            "Train on 60000 samples, validate on 10000 samples\n",
            "Epoch 1/20\n",
            "60000/60000 [==============================] - 24s 394us/step - loss: 0.1828 - acc: 0.9440 - val_loss: 0.0929 - val_acc: 0.9705\n",
            "Epoch 2/20\n",
            "60000/60000 [==============================] - 23s 386us/step - loss: 0.0808 - acc: 0.9757 - val_loss: 0.0827 - val_acc: 0.9743\n",
            "Epoch 3/20\n",
            "60000/60000 [==============================] - 23s 389us/step - loss: 0.0565 - acc: 0.9828 - val_loss: 0.0695 - val_acc: 0.9786\n",
            "Epoch 4/20\n",
            "60000/60000 [==============================] - 23s 381us/step - loss: 0.0429 - acc: 0.9864 - val_loss: 0.0832 - val_acc: 0.9774\n",
            "Epoch 5/20\n",
            "60000/60000 [==============================] - 23s 386us/step - loss: 0.0353 - acc: 0.9887 - val_loss: 0.0921 - val_acc: 0.9745\n",
            "Epoch 6/20\n",
            "60000/60000 [==============================] - 23s 387us/step - loss: 0.0287 - acc: 0.9910 - val_loss: 0.0819 - val_acc: 0.9782\n",
            "Epoch 7/20\n",
            "60000/60000 [==============================] - 23s 387us/step - loss: 0.0272 - acc: 0.9914 - val_loss: 0.0807 - val_acc: 0.9802\n",
            "Epoch 8/20\n",
            "60000/60000 [==============================] - 24s 395us/step - loss: 0.0237 - acc: 0.9924 - val_loss: 0.1136 - val_acc: 0.9771\n",
            "Epoch 9/20\n",
            "60000/60000 [==============================] - 23s 390us/step - loss: 0.0201 - acc: 0.9938 - val_loss: 0.1083 - val_acc: 0.9800\n",
            "Epoch 10/20\n",
            "60000/60000 [==============================] - 23s 381us/step - loss: 0.0202 - acc: 0.9939 - val_loss: 0.1016 - val_acc: 0.9798\n",
            "Epoch 11/20\n",
            "60000/60000 [==============================] - 23s 390us/step - loss: 0.0170 - acc: 0.9951 - val_loss: 0.1167 - val_acc: 0.9783\n",
            "Epoch 12/20\n",
            "60000/60000 [==============================] - 23s 387us/step - loss: 0.0175 - acc: 0.9948 - val_loss: 0.1026 - val_acc: 0.9805\n",
            "Epoch 13/20\n",
            "60000/60000 [==============================] - 23s 381us/step - loss: 0.0179 - acc: 0.9950 - val_loss: 0.1039 - val_acc: 0.9811\n",
            "Epoch 14/20\n",
            "60000/60000 [==============================] - 23s 377us/step - loss: 0.0155 - acc: 0.9956 - val_loss: 0.1173 - val_acc: 0.9809\n",
            "Epoch 15/20\n",
            "60000/60000 [==============================] - 22s 374us/step - loss: 0.0179 - acc: 0.9947 - val_loss: 0.1135 - val_acc: 0.9801\n",
            "Epoch 16/20\n",
            "60000/60000 [==============================] - 25s 415us/step - loss: 0.0126 - acc: 0.9965 - val_loss: 0.1391 - val_acc: 0.9792\n",
            "Epoch 17/20\n",
            "60000/60000 [==============================] - 24s 397us/step - loss: 0.0151 - acc: 0.9964 - val_loss: 0.1211 - val_acc: 0.9819\n",
            "Epoch 18/20\n",
            "60000/60000 [==============================] - 24s 400us/step - loss: 0.0159 - acc: 0.9962 - val_loss: 0.1208 - val_acc: 0.9800\n",
            "Epoch 19/20\n",
            "60000/60000 [==============================] - 24s 403us/step - loss: 0.0166 - acc: 0.9960 - val_loss: 0.1309 - val_acc: 0.9808\n",
            "Epoch 20/20\n",
            "60000/60000 [==============================] - 24s 397us/step - loss: 0.0133 - acc: 0.9965 - val_loss: 0.1310 - val_acc: 0.9813\n"
          ]
        }
      ],
      "source": [
        "history =model.fit(X_train, y_train, epochs =20, validation_data=(X_test, y_test))"
      ]
    },
    {
      "cell_type": "code",
      "execution_count": null,
      "metadata": {
        "colab": {},
        "colab_type": "code",
        "id": "tcWxxJcE4xKl",
        "trusted": false
      },
      "outputs": [],
      "source": []
    },
    {
      "cell_type": "markdown",
      "metadata": {
        "colab_type": "text",
        "id": "jGDWqxk44xKv"
      },
      "source": [
        "## What is the accuracy of the model?"
      ]
    },
    {
      "cell_type": "markdown",
      "metadata": {
        "colab_type": "text",
        "id": "eIkdo9jw4xKx"
      },
      "source": [
        "### Plot the accuracy of the training model"
      ]
    },
    {
      "cell_type": "code",
      "execution_count": 17,
      "metadata": {
        "colab": {
          "base_uri": "https://localhost:8080/",
          "height": 1000
        },
        "colab_type": "code",
        "id": "mAWogC6R4xK1",
        "outputId": "86cce339-8f00-4f65-c8ad-69255eef9c4f",
        "trusted": true
      },
      "outputs": [
        {
          "data": {
            "text/plain": [
              "{'epoch': [0,\n",
              "  1,\n",
              "  2,\n",
              "  3,\n",
              "  4,\n",
              "  5,\n",
              "  6,\n",
              "  7,\n",
              "  8,\n",
              "  9,\n",
              "  10,\n",
              "  11,\n",
              "  12,\n",
              "  13,\n",
              "  14,\n",
              "  15,\n",
              "  16,\n",
              "  17,\n",
              "  18,\n",
              "  19],\n",
              " 'history': {'acc': [0.9439666666666666,\n",
              "   0.9757333333333333,\n",
              "   0.9827833333333333,\n",
              "   0.9864166666666667,\n",
              "   0.9886666666666667,\n",
              "   0.9910333333333333,\n",
              "   0.9914,\n",
              "   0.99245,\n",
              "   0.9938166666666667,\n",
              "   0.9939,\n",
              "   0.99515,\n",
              "   0.9948,\n",
              "   0.9950166666666667,\n",
              "   0.9956333333333334,\n",
              "   0.9947333333333334,\n",
              "   0.9965166666666667,\n",
              "   0.9963833333333333,\n",
              "   0.9962166666666666,\n",
              "   0.99595,\n",
              "   0.99645],\n",
              "  'loss': [0.1827596818920225,\n",
              "   0.08079896697839722,\n",
              "   0.05645396511411139,\n",
              "   0.04291815567353721,\n",
              "   0.03526910000597515,\n",
              "   0.02873079521368248,\n",
              "   0.02715607473684601,\n",
              "   0.023650182965393438,\n",
              "   0.020055528101623546,\n",
              "   0.02019607128013062,\n",
              "   0.016955279541049723,\n",
              "   0.017472221146037314,\n",
              "   0.017864977817751575,\n",
              "   0.015457480643335983,\n",
              "   0.017869793417473495,\n",
              "   0.012631182595215281,\n",
              "   0.015135916414613901,\n",
              "   0.015882995463786898,\n",
              "   0.016569432756344288,\n",
              "   0.013335457366452594],\n",
              "  'val_acc': [0.9705,\n",
              "   0.9743,\n",
              "   0.9786,\n",
              "   0.9774,\n",
              "   0.9745,\n",
              "   0.9782,\n",
              "   0.9802,\n",
              "   0.9771,\n",
              "   0.98,\n",
              "   0.9798,\n",
              "   0.9783,\n",
              "   0.9805,\n",
              "   0.9811,\n",
              "   0.9809,\n",
              "   0.9801,\n",
              "   0.9792,\n",
              "   0.9819,\n",
              "   0.98,\n",
              "   0.9808,\n",
              "   0.9813],\n",
              "  'val_loss': [0.09286645495379343,\n",
              "   0.08266143489209934,\n",
              "   0.069480553943431,\n",
              "   0.08320518101718044,\n",
              "   0.09206652115154429,\n",
              "   0.08190068501315655,\n",
              "   0.08067529291427782,\n",
              "   0.11358439496830543,\n",
              "   0.10833151409866154,\n",
              "   0.10160923933375093,\n",
              "   0.11671308373045626,\n",
              "   0.10255490619101375,\n",
              "   0.10387474813488247,\n",
              "   0.11728941089477675,\n",
              "   0.11347036018394005,\n",
              "   0.13906407877868832,\n",
              "   0.12108565404413693,\n",
              "   0.120797497302599,\n",
              "   0.1309188434239974,\n",
              "   0.13095201672244552]},\n",
              " 'model': <keras.engine.sequential.Sequential at 0x7fb0320f3400>,\n",
              " 'params': {'batch_size': 32,\n",
              "  'do_validation': True,\n",
              "  'epochs': 20,\n",
              "  'metrics': ['loss', 'acc', 'val_loss', 'val_acc'],\n",
              "  'samples': 60000,\n",
              "  'steps': None,\n",
              "  'verbose': 1},\n",
              " 'validation_data': [array([[0., 0., 0., ..., 0., 0., 0.],\n",
              "         [0., 0., 0., ..., 0., 0., 0.],\n",
              "         [0., 0., 0., ..., 0., 0., 0.],\n",
              "         ...,\n",
              "         [0., 0., 0., ..., 0., 0., 0.],\n",
              "         [0., 0., 0., ..., 0., 0., 0.],\n",
              "         [0., 0., 0., ..., 0., 0., 0.]], dtype=float32),\n",
              "  array([[0., 0., 0., ..., 1., 0., 0.],\n",
              "         [0., 0., 1., ..., 0., 0., 0.],\n",
              "         [0., 1., 0., ..., 0., 0., 0.],\n",
              "         ...,\n",
              "         [0., 0., 0., ..., 0., 0., 0.],\n",
              "         [0., 0., 0., ..., 0., 0., 0.],\n",
              "         [0., 0., 0., ..., 0., 0., 0.]], dtype=float32),\n",
              "  array([1., 1., 1., ..., 1., 1., 1.], dtype=float32)]}"
            ]
          },
          "execution_count": 17,
          "metadata": {
            "tags": []
          },
          "output_type": "execute_result"
        }
      ],
      "source": [
        "#Look at the attributes in the history object to find the accuracy\n",
        "history.__dict__"
      ]
    },
    {
      "cell_type": "code",
      "execution_count": 23,
      "metadata": {
        "colab": {
          "base_uri": "https://localhost:8080/",
          "height": 312
        },
        "colab_type": "code",
        "id": "4fuXN2Rq4xK6",
        "outputId": "e13ffeb1-9f2e-45dc-9ebe-764dc8c4375c",
        "trusted": true
      },
      "outputs": [
        {
          "data": {
            "text/plain": [
              "<matplotlib.legend.Legend at 0x7fb013ca8dd8>"
            ]
          },
          "execution_count": 23,
          "metadata": {
            "tags": []
          },
          "output_type": "execute_result"
        },
        {
          "data": {
            "image/png": "[encoded data removed]",
            "text/plain": [
              "<Figure size 432x288 with 1 Axes>"
            ]
          },
          "metadata": {
            "tags": []
          },
          "output_type": "display_data"
        }
      ],
      "source": [
        "#Plot the accuracy \n",
        "plt.plot(history.history['acc'],label='train')\n",
        "plt.xlabel('Epoch Number')\n",
        "plt.ylabel('Accuracy')\n",
        "plt.title('Model Accuracy Over Epoch')\n",
        "plt.legend()"
      ]
    },
    {
      "cell_type": "markdown",
      "metadata": {
        "colab_type": "text",
        "collapsed": true,
        "id": "hCCz4XZ64xLC"
      },
      "source": [
        "### Plot the accuracy of training and validation set"
      ]
    },
    {
      "cell_type": "code",
      "execution_count": 24,
      "metadata": {
        "colab": {
          "base_uri": "https://localhost:8080/",
          "height": 312
        },
        "colab_type": "code",
        "id": "wuGKI6To4xLF",
        "outputId": "a463ab6c-b3fd-48df-d238-454d83377d94",
        "trusted": true
      },
      "outputs": [
        {
          "data": {
            "text/plain": [
              "<matplotlib.legend.Legend at 0x7fb013bfbfd0>"
            ]
          },
          "execution_count": 24,
          "metadata": {
            "tags": []
          },
          "output_type": "execute_result"
        },
        {
          "data": {
            "image/png": "[encoded data removed]",
            "text/plain": [
              "<Figure size 432x288 with 1 Axes>"
            ]
          },
          "metadata": {
            "tags": []
          },
          "output_type": "display_data"
        }
      ],
      "source": [
        "#Plot the accuracy of training data and validation data\n",
        "plt.plot(history.history['acc'],label='train')\n",
        "plt.plot(history.history['val_acc'],label='val')\n",
        "plt.xlabel('Epoch Number')\n",
        "plt.ylabel('Accuracy')\n",
        "plt.title('Model Accuracy Over Epoch')\n",
        "plt.legend()"
      ]
    },
    {
      "cell_type": "markdown",
      "metadata": {
        "colab_type": "text",
        "collapsed": true,
        "id": "V3XNjXN14xLQ"
      },
      "source": [
        "### Accuracy of training and validation with loss"
      ]
    },
    {
      "cell_type": "code",
      "execution_count": 25,
      "metadata": {
        "colab": {
          "base_uri": "https://localhost:8080/",
          "height": 312
        },
        "colab_type": "code",
        "id": "X2qLlzei4xLS",
        "outputId": "20dc2f33-ec3d-45f0-f72d-4e7f81df1516",
        "trusted": true
      },
      "outputs": [
        {
          "data": {
            "text/plain": [
              "<matplotlib.legend.Legend at 0x7fb013be43c8>"
            ]
          },
          "execution_count": 25,
          "metadata": {
            "tags": []
          },
          "output_type": "execute_result"
        },
        {
          "data": {
            "image/png": "[encoded data removed]",
            "text/plain": [
              "<Figure size 432x288 with 1 Axes>"
            ]
          },
          "metadata": {
            "tags": []
          },
          "output_type": "display_data"
        }
      ],
      "source": [
        "#Plot the accuracy of training data and validation data AND loss\n",
        "plt.plot(history.history['acc'],label='train')\n",
        "plt.plot(history.history['val_acc'],label='val')\n",
        "plt.plot(history.history['loss'],label='loss')\n",
        "plt.xlabel('Epoch Number')\n",
        "plt.ylabel('Accuracy')\n",
        "plt.title('Model Accuracy Over Epoch')\n",
        "plt.legend()\n",
        "# plt.yscale('log')"
      ]
    },
    {
      "cell_type": "markdown",
      "metadata": {
        "colab_type": "text",
        "id": "sRXDnLIw4xLZ"
      },
      "source": [
        "## Evaluating model"
      ]
    },
    {
      "cell_type": "code",
      "execution_count": 21,
      "metadata": {
        "colab": {
          "base_uri": "https://localhost:8080/",
          "height": 34
        },
        "colab_type": "code",
        "id": "xLxuJrSI4xLb",
        "outputId": "1a740989-b51b-4e2c-a08a-381f39e46af9",
        "trusted": true
      },
      "outputs": [
        {
          "name": "stdout",
          "output_type": "stream",
          "text": [
            "10000/10000 [==============================] - 1s 84us/step\n"
          ]
        }
      ],
      "source": [
        "score=model.evaluate(X_test, y_test)"
      ]
    },
    {
      "cell_type": "code",
      "execution_count": 22,
      "metadata": {
        "colab": {
          "base_uri": "https://localhost:8080/",
          "height": 34
        },
        "colab_type": "code",
        "id": "JG3xVYdd4xLj",
        "outputId": "05586442-a066-4006-a87d-fc4c29c68426",
        "trusted": true
      },
      "outputs": [
        {
          "data": {
            "text/plain": [
              "[0.13095201672244552, 0.9813]"
            ]
          },
          "execution_count": 22,
          "metadata": {
            "tags": []
          },
          "output_type": "execute_result"
        }
      ],
      "source": [
        "#We get score as a list\n",
        "#The second item in score gives us the accuracy of or model\n",
        "score"
      ]
    }
  ],
  "metadata": {
    "colab": {
      "include_colab_link": true,
      "name": "DeepLearning-DigitClassificationWithKeras.ipynb",
      "provenance": [],
      "version": "0.3.2"
    },
    "kernelspec": {
      "display_name": "Python 3",
      "language": "python",
      "name": "python3"
    },
    "language_info": {
      "codemirror_mode": {
        "name": "ipython",
        "version": 3
      },
      "file_extension": ".py",
      "mimetype": "text/x-python",
      "name": "python",
      "nbconvert_exporter": "python",
      "pygments_lexer": "ipython3",
      "version": "3.5.4"
    }
  },
  "nbformat": 4,
  "nbformat_minor": 0
}
